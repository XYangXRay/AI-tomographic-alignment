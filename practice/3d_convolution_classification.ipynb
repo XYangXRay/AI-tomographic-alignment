{
 "cells": [
  {
   "cell_type": "markdown",
   "id": "bf62cb14",
   "metadata": {},
   "source": [
    "# 3D Convolution Classification\n",
    "As a potential method of approaching the misalignment problem, understanding how 3D convolutions work and their computational caveats is important. This notebook goes through the creation and analysis of a 3D convolutional neural network classifying 3D MNIST data.\n",
    "## Setup\n",
    "Importing essential packages and loading training data, analyzing the shape and datatype of the inputs."
   ]
  },
  {
   "cell_type": "code",
   "execution_count": 31,
   "id": "16c5264b",
   "metadata": {},
   "outputs": [],
   "source": [
    "# Default packages\n",
    "import numpy as np\n",
    "import matplotlib.pyplot as plt\n",
    "import seaborn as sns\n",
    "\n",
    "# Neural net and optimizer packages\n",
    "import torch\n",
    "import torch.nn as nn\n",
    "import torch.nn.functional as F\n",
    "import torch.optim as optim\n",
    "from torch.autograd import Variable\n",
    "\n",
    "# Other\n",
    "import h5py\n",
    "from tqdm.auto import tqdm\n",
    "from sklearn.metrics import confusion_matrix\n",
    "from sklearn.metrics import ConfusionMatrixDisplay "
   ]
  },
  {
   "cell_type": "code",
   "execution_count": 9,
   "id": "84365e26",
   "metadata": {},
   "outputs": [
    {
     "name": "stdout",
     "output_type": "stream",
     "text": [
      "X_train   :   shape: (10000, 4096)          type: <class 'numpy.ndarray'>\n",
      "y_train   :   shape: (10000,)               type: <class 'numpy.ndarray'>\n",
      "X_test    :   shape: (2000, 4096)           type: <class 'numpy.ndarray'>\n",
      "y_test    :   shape: (2000,)                type: <class 'numpy.ndarray'>\n"
     ]
    }
   ],
   "source": [
    "# Load training data\n",
    "path_dir = \"/home/liam/Data/\"\n",
    "with h5py.File(path_dir + \"full_dataset_vectors.h5\", \"r\") as data:\n",
    "    X_train = data[\"X_train\"][:]    \n",
    "    y_train = data[\"y_train\"][:]   \n",
    "    X_test = data[\"X_test\"][:]     \n",
    "    y_test = data[\"y_test\"][:]\n",
    "    \n",
    "# Observe shape and datatypes of input data\n",
    "    print('X_train   :   shape:', X_train.shape, '         type:', type(X_train))\n",
    "    print('y_train   :   shape:', y_train.shape, '              type:', type(y_train))\n",
    "    print('X_test    :   shape:', X_test.shape, '          type:', type(X_test))\n",
    "    print('y_test    :   shape:', y_test.shape, '               type:', type(y_test))"
   ]
  },
  {
   "cell_type": "markdown",
   "id": "ece6266e",
   "metadata": {},
   "source": [
    "## Preparing Data\n",
    "Now the images must be transformed to fit the 16 by 16 by 16 MNIST images. Also, one-hot encoding must be done to the training labels for the data as well in order to process them in a neural network model."
   ]
  },
  {
   "cell_type": "code",
   "execution_count": 10,
   "id": "a8a42fdb",
   "metadata": {},
   "outputs": [],
   "source": [
    "# Resize image vectors to fit 16x16x16 MNIST images\n",
    "def transform_images_dataset(data):\n",
    "    th, upper, lower = 0.2, 1, 0\n",
    "    data = np.where(data > th, upper, lower)\n",
    "    data = data.reshape(data.shape[0], 1, 16, 16, 16)\n",
    "    data = np.stack((data,) * 3, axis = -1)\n",
    "    return(torch.as_tensor(data))\n",
    "\n",
    "X_train = transform_images_dataset(X_train)\n",
    "X_test = transform_images_dataset(X_test)"
   ]
  },
  {
   "cell_type": "code",
   "execution_count": 11,
   "id": "5c16d719",
   "metadata": {},
   "outputs": [],
   "source": [
    "# Create one_hot encodings of labels\n",
    "def one_hot_data(target):\n",
    "    target_tensor = torch.as_tensor(target)\n",
    "    one_hot = F.one_hot(target_tensor, num_classes = 10)\n",
    "    return(one_hot)\n",
    "\n",
    "y_train = one_hot_data(y_train)\n",
    "y_test = one_hot_data(y_test)"
   ]
  },
  {
   "cell_type": "code",
   "execution_count": 12,
   "id": "f21a14ab",
   "metadata": {},
   "outputs": [
    {
     "name": "stdout",
     "output_type": "stream",
     "text": [
      "X_train   :   shape: torch.Size([10000, 1, 16, 16, 16, 3])           type: <class 'torch.Tensor'>\n",
      "y_train   :   shape: torch.Size([10000, 10])                      type: <class 'torch.Tensor'>\n",
      "X_test    :   shape: torch.Size([2000, 1, 16, 16, 16, 3])            type: <class 'torch.Tensor'>\n",
      "y_test    :   shape: torch.Size([2000, 10])                       type: <class 'torch.Tensor'>\n"
     ]
    }
   ],
   "source": [
    "# Observe modified shapes and datatypes of data\n",
    "print('X_train   :   shape:', X_train.shape, '          type:', type(X_train))\n",
    "print('y_train   :   shape:', y_train.shape, '                     type:', type(y_train))\n",
    "print('X_test    :   shape:', X_test.shape, '           type:', type(X_test))\n",
    "print('y_test    :   shape:', y_test.shape, '                      type:', type(y_test))"
   ]
  },
  {
   "cell_type": "markdown",
   "id": "32304f41",
   "metadata": {},
   "source": [
    "## Model Preparation\n",
    "Now the model will be created with two convolution layers with 3 by 3 by 3 kernels. There will also be 2 by 2 by 2 max-pooling. The data is loaded, loss function created, and optimizer set."
   ]
  },
  {
   "cell_type": "code",
   "execution_count": 14,
   "id": "d4546f91",
   "metadata": {},
   "outputs": [],
   "source": [
    "# Create 3d CNN for classification\n",
    "class CNN_classification_model(nn.Module):\n",
    "    def __init__(self):\n",
    "        super(CNN_classification_model, self).__init__()\n",
    "        self.model= nn.Sequential(\n",
    "        \n",
    "        #Conv layer 1    \n",
    "        nn.Conv3d(3, 32, kernel_size=(3, 3, 3), padding=0),\n",
    "        nn.ReLU(),\n",
    "        nn.MaxPool3d((2, 2, 2)),   \n",
    "        \n",
    "        #Conv layer 2  \n",
    "        nn.Conv3d(32, 64, kernel_size=(3, 3, 3), padding=0),\n",
    "        nn.ReLU(),\n",
    "        nn.MaxPool3d((2, 2, 2)),\n",
    "               \n",
    "        #Flatten\n",
    "        nn.Flatten(),  \n",
    "        #Linear 1\n",
    "        nn.Linear(2**3*64, 128), \n",
    "        #Relu\n",
    "        nn.ReLU(),\n",
    "        #BatchNorm1d\n",
    "        nn.BatchNorm1d(128),\n",
    "        #Dropout\n",
    "        nn.Dropout(p=0.15),\n",
    "        #Linear 2\n",
    "        nn.Linear(128, num_classes)\n",
    "        )\n",
    "    \n",
    "\n",
    "    def forward(self, x):\n",
    "        # Set 1\n",
    "        out = self.model(x)\n",
    "        return out\n",
    "    \n",
    "# Accuracy function\n",
    "def accuracyFUNCTION (predicted, targets):          \n",
    "    c=0\n",
    "    for i in range(len(targets)):\n",
    "        if (predicted[i] == targets[i]):\n",
    "            c+=1\n",
    "    accuracy =  c / float(len(targets))\n",
    "    print('accuracy   = ', c ,'/', len(targets))\n",
    "    return(accuracy)"
   ]
  },
  {
   "cell_type": "code",
   "execution_count": 22,
   "id": "273b6353",
   "metadata": {},
   "outputs": [
    {
     "name": "stdout",
     "output_type": "stream",
     "text": [
      "CNN_classification_model(\n",
      "  (model): Sequential(\n",
      "    (0): Conv3d(3, 32, kernel_size=(3, 3, 3), stride=(1, 1, 1))\n",
      "    (1): ReLU()\n",
      "    (2): MaxPool3d(kernel_size=(2, 2, 2), stride=(2, 2, 2), padding=0, dilation=1, ceil_mode=False)\n",
      "    (3): Conv3d(32, 64, kernel_size=(3, 3, 3), stride=(1, 1, 1))\n",
      "    (4): ReLU()\n",
      "    (5): MaxPool3d(kernel_size=(2, 2, 2), stride=(2, 2, 2), padding=0, dilation=1, ceil_mode=False)\n",
      "    (6): Flatten(start_dim=1, end_dim=-1)\n",
      "    (7): Linear(in_features=512, out_features=128, bias=True)\n",
      "    (8): ReLU()\n",
      "    (9): BatchNorm1d(128, eps=1e-05, momentum=0.1, affine=True, track_running_stats=True)\n",
      "    (10): Dropout(p=0.15, inplace=False)\n",
      "    (11): Linear(in_features=128, out_features=10, bias=True)\n",
      "  )\n",
      ")\n"
     ]
    }
   ],
   "source": [
    "batch_size = 100    \n",
    "\n",
    "# Pytorch train and test sets\n",
    "train = torch.utils.data.TensorDataset(X_train.float(),y_train.long())\n",
    "test = torch.utils.data.TensorDataset(X_test.float(),y_test.long())\n",
    "\n",
    "# data loader with pytorch\n",
    "train_loader = torch.utils.data.DataLoader(train, batch_size = batch_size, shuffle = False)\n",
    "test_loader = torch.utils.data.DataLoader(test, batch_size = batch_size, shuffle = False)\n",
    "\n",
    "# we have 10 classes\n",
    "num_classes = 10\n",
    "\n",
    "# The number of epochs\n",
    "num_epochs = 50\n",
    "\n",
    "# 3D model\n",
    "model = CNN_classification_model()\n",
    "\n",
    "#You can use the GPU by typing: model.cuda()\n",
    "print(model)\n",
    "\n",
    "# Loss function : Cross Entropy\n",
    "error = nn.CrossEntropyLoss()\n",
    "\n",
    "# Learning rate : learning_r = 0.01\n",
    "learning_r = 0.01\n",
    "\n",
    "# SGD optimizer\n",
    "optimizer = torch.optim.SGD(model.parameters(), lr=learning_r)"
   ]
  },
  {
   "cell_type": "markdown",
   "id": "0b96ec11",
   "metadata": {},
   "source": [
    "## Model Training\n",
    "The model will now be trained, with data being printed indicating the accuracy of the model and the loss as it iterates over the data."
   ]
  },
  {
   "cell_type": "code",
   "execution_count": 24,
   "id": "955abfd4",
   "metadata": {},
   "outputs": [
    {
     "data": {
      "application/vnd.jupyter.widget-view+json": {
       "model_id": "d32b89ee303a4914a2c27b081ccfef03",
       "version_major": 2,
       "version_minor": 0
      },
      "text/plain": [
       "0it [00:00, ?it/s]"
      ]
     },
     "metadata": {},
     "output_type": "display_data"
    },
    {
     "name": "stdout",
     "output_type": "stream",
     "text": [
      "accuracy   =  780 / 2000\n",
      "Iteration: 50  Loss: 1.862661600112915  Accuracy: 0.39 %\n",
      "accuracy   =  894 / 2000\n",
      "Iteration: 100  Loss: 1.5384228229522705  Accuracy: 0.447 %\n"
     ]
    },
    {
     "data": {
      "application/vnd.jupyter.widget-view+json": {
       "model_id": "0ff9a01de9cc460dbbccd86feb02e9cf",
       "version_major": 2,
       "version_minor": 0
      },
      "text/plain": [
       "0it [00:00, ?it/s]"
      ]
     },
     "metadata": {},
     "output_type": "display_data"
    },
    {
     "name": "stdout",
     "output_type": "stream",
     "text": [
      "accuracy   =  939 / 2000\n",
      "Iteration: 150  Loss: 1.5384166240692139  Accuracy: 0.4695 %\n",
      "accuracy   =  998 / 2000\n",
      "Iteration: 200  Loss: 1.3449658155441284  Accuracy: 0.499 %\n"
     ]
    },
    {
     "data": {
      "application/vnd.jupyter.widget-view+json": {
       "model_id": "d6f155caba18463186d3a230fddab7a9",
       "version_major": 2,
       "version_minor": 0
      },
      "text/plain": [
       "0it [00:00, ?it/s]"
      ]
     },
     "metadata": {},
     "output_type": "display_data"
    },
    {
     "name": "stdout",
     "output_type": "stream",
     "text": [
      "accuracy   =  1038 / 2000\n",
      "Iteration: 250  Loss: 1.3737872838974  Accuracy: 0.519 %\n",
      "accuracy   =  1053 / 2000\n",
      "Iteration: 300  Loss: 1.2483551502227783  Accuracy: 0.5265 %\n"
     ]
    },
    {
     "data": {
      "application/vnd.jupyter.widget-view+json": {
       "model_id": "ee9966db26d54c1294148c445f335bd2",
       "version_major": 2,
       "version_minor": 0
      },
      "text/plain": [
       "0it [00:00, ?it/s]"
      ]
     },
     "metadata": {},
     "output_type": "display_data"
    },
    {
     "name": "stdout",
     "output_type": "stream",
     "text": [
      "accuracy   =  1087 / 2000\n",
      "Iteration: 350  Loss: 1.2682045698165894  Accuracy: 0.5435 %\n",
      "accuracy   =  1088 / 2000\n",
      "Iteration: 400  Loss: 1.216404676437378  Accuracy: 0.544 %\n"
     ]
    },
    {
     "data": {
      "application/vnd.jupyter.widget-view+json": {
       "model_id": "24477d3d86ef4865b0f265a91094a3a1",
       "version_major": 2,
       "version_minor": 0
      },
      "text/plain": [
       "0it [00:00, ?it/s]"
      ]
     },
     "metadata": {},
     "output_type": "display_data"
    },
    {
     "name": "stdout",
     "output_type": "stream",
     "text": [
      "accuracy   =  1096 / 2000\n",
      "Iteration: 450  Loss: 1.1804225444793701  Accuracy: 0.548 %\n",
      "accuracy   =  1132 / 2000\n",
      "Iteration: 500  Loss: 1.118262529373169  Accuracy: 0.566 %\n"
     ]
    },
    {
     "data": {
      "application/vnd.jupyter.widget-view+json": {
       "model_id": "b0d90e4055ac4830bd85edb822fb226e",
       "version_major": 2,
       "version_minor": 0
      },
      "text/plain": [
       "0it [00:00, ?it/s]"
      ]
     },
     "metadata": {},
     "output_type": "display_data"
    },
    {
     "name": "stdout",
     "output_type": "stream",
     "text": [
      "accuracy   =  1116 / 2000\n",
      "Iteration: 550  Loss: 1.0512291193008423  Accuracy: 0.558 %\n",
      "accuracy   =  1131 / 2000\n",
      "Iteration: 600  Loss: 1.0782321691513062  Accuracy: 0.5655 %\n"
     ]
    },
    {
     "data": {
      "application/vnd.jupyter.widget-view+json": {
       "model_id": "f8fe50af3017416c8e05f0fb3387ae8c",
       "version_major": 2,
       "version_minor": 0
      },
      "text/plain": [
       "0it [00:00, ?it/s]"
      ]
     },
     "metadata": {},
     "output_type": "display_data"
    },
    {
     "name": "stdout",
     "output_type": "stream",
     "text": [
      "accuracy   =  1141 / 2000\n",
      "Iteration: 650  Loss: 1.0207139253616333  Accuracy: 0.5705 %\n",
      "accuracy   =  1150 / 2000\n",
      "Iteration: 700  Loss: 0.9749096632003784  Accuracy: 0.575 %\n"
     ]
    },
    {
     "data": {
      "application/vnd.jupyter.widget-view+json": {
       "model_id": "32feab0e1d8c49aabe928018bedb13d7",
       "version_major": 2,
       "version_minor": 0
      },
      "text/plain": [
       "0it [00:00, ?it/s]"
      ]
     },
     "metadata": {},
     "output_type": "display_data"
    },
    {
     "name": "stdout",
     "output_type": "stream",
     "text": [
      "accuracy   =  1125 / 2000\n",
      "Iteration: 750  Loss: 0.8898363709449768  Accuracy: 0.5625 %\n",
      "accuracy   =  1137 / 2000\n",
      "Iteration: 800  Loss: 0.9650714993476868  Accuracy: 0.5685 %\n"
     ]
    },
    {
     "data": {
      "application/vnd.jupyter.widget-view+json": {
       "model_id": "ccfeaf694a464705a0f0b1109b907466",
       "version_major": 2,
       "version_minor": 0
      },
      "text/plain": [
       "0it [00:00, ?it/s]"
      ]
     },
     "metadata": {},
     "output_type": "display_data"
    },
    {
     "name": "stdout",
     "output_type": "stream",
     "text": [
      "accuracy   =  1165 / 2000\n",
      "Iteration: 850  Loss: 0.854506254196167  Accuracy: 0.5825 %\n",
      "accuracy   =  1158 / 2000\n",
      "Iteration: 900  Loss: 0.8321473598480225  Accuracy: 0.579 %\n"
     ]
    },
    {
     "data": {
      "application/vnd.jupyter.widget-view+json": {
       "model_id": "04e5446334384fc18aaa363ec3790381",
       "version_major": 2,
       "version_minor": 0
      },
      "text/plain": [
       "0it [00:00, ?it/s]"
      ]
     },
     "metadata": {},
     "output_type": "display_data"
    },
    {
     "name": "stdout",
     "output_type": "stream",
     "text": [
      "accuracy   =  1154 / 2000\n",
      "Iteration: 950  Loss: 0.8062939643859863  Accuracy: 0.577 %\n",
      "accuracy   =  1155 / 2000\n",
      "Iteration: 1000  Loss: 0.7825453877449036  Accuracy: 0.5775 %\n"
     ]
    },
    {
     "data": {
      "application/vnd.jupyter.widget-view+json": {
       "model_id": "23180bbfd6dc400ba0b59f443dff9a56",
       "version_major": 2,
       "version_minor": 0
      },
      "text/plain": [
       "0it [00:00, ?it/s]"
      ]
     },
     "metadata": {},
     "output_type": "display_data"
    },
    {
     "name": "stdout",
     "output_type": "stream",
     "text": [
      "accuracy   =  1143 / 2000\n",
      "Iteration: 1050  Loss: 0.7492106556892395  Accuracy: 0.5715 %\n",
      "accuracy   =  1151 / 2000\n",
      "Iteration: 1100  Loss: 0.6760255694389343  Accuracy: 0.5755 %\n"
     ]
    },
    {
     "data": {
      "application/vnd.jupyter.widget-view+json": {
       "model_id": "7233190d80c540f29c787b68a663cb46",
       "version_major": 2,
       "version_minor": 0
      },
      "text/plain": [
       "0it [00:00, ?it/s]"
      ]
     },
     "metadata": {},
     "output_type": "display_data"
    },
    {
     "name": "stdout",
     "output_type": "stream",
     "text": [
      "accuracy   =  1159 / 2000\n",
      "Iteration: 1150  Loss: 0.7626271843910217  Accuracy: 0.5795 %\n",
      "accuracy   =  1168 / 2000\n",
      "Iteration: 1200  Loss: 0.6461368799209595  Accuracy: 0.584 %\n"
     ]
    },
    {
     "data": {
      "application/vnd.jupyter.widget-view+json": {
       "model_id": "96741a50d43f4130bffc08af556d35f9",
       "version_major": 2,
       "version_minor": 0
      },
      "text/plain": [
       "0it [00:00, ?it/s]"
      ]
     },
     "metadata": {},
     "output_type": "display_data"
    },
    {
     "name": "stdout",
     "output_type": "stream",
     "text": [
      "accuracy   =  1137 / 2000\n",
      "Iteration: 1250  Loss: 0.6256114840507507  Accuracy: 0.5685 %\n",
      "accuracy   =  1152 / 2000\n",
      "Iteration: 1300  Loss: 0.5259596705436707  Accuracy: 0.576 %\n"
     ]
    },
    {
     "data": {
      "application/vnd.jupyter.widget-view+json": {
       "model_id": "4b30a83dd21f441c82f4531efa2f1abc",
       "version_major": 2,
       "version_minor": 0
      },
      "text/plain": [
       "0it [00:00, ?it/s]"
      ]
     },
     "metadata": {},
     "output_type": "display_data"
    },
    {
     "name": "stdout",
     "output_type": "stream",
     "text": [
      "accuracy   =  1128 / 2000\n",
      "Iteration: 1350  Loss: 0.5351804494857788  Accuracy: 0.564 %\n",
      "accuracy   =  1156 / 2000\n",
      "Iteration: 1400  Loss: 0.45979952812194824  Accuracy: 0.578 %\n"
     ]
    },
    {
     "data": {
      "application/vnd.jupyter.widget-view+json": {
       "model_id": "197ed393dd8d490cbbd71fedcfaa5861",
       "version_major": 2,
       "version_minor": 0
      },
      "text/plain": [
       "0it [00:00, ?it/s]"
      ]
     },
     "metadata": {},
     "output_type": "display_data"
    },
    {
     "name": "stdout",
     "output_type": "stream",
     "text": [
      "accuracy   =  1143 / 2000\n",
      "Iteration: 1450  Loss: 0.5069659948348999  Accuracy: 0.5715 %\n",
      "accuracy   =  1155 / 2000\n",
      "Iteration: 1500  Loss: 0.450769305229187  Accuracy: 0.5775 %\n"
     ]
    },
    {
     "data": {
      "application/vnd.jupyter.widget-view+json": {
       "model_id": "67186cd0883d44bb9784db0f7c73c025",
       "version_major": 2,
       "version_minor": 0
      },
      "text/plain": [
       "0it [00:00, ?it/s]"
      ]
     },
     "metadata": {},
     "output_type": "display_data"
    },
    {
     "name": "stdout",
     "output_type": "stream",
     "text": [
      "accuracy   =  1149 / 2000\n",
      "Iteration: 1550  Loss: 0.4324203431606293  Accuracy: 0.5745 %\n",
      "accuracy   =  1148 / 2000\n",
      "Iteration: 1600  Loss: 0.35735374689102173  Accuracy: 0.574 %\n"
     ]
    },
    {
     "data": {
      "application/vnd.jupyter.widget-view+json": {
       "model_id": "448c29fbaba3428398cc922edb685f57",
       "version_major": 2,
       "version_minor": 0
      },
      "text/plain": [
       "0it [00:00, ?it/s]"
      ]
     },
     "metadata": {},
     "output_type": "display_data"
    },
    {
     "name": "stdout",
     "output_type": "stream",
     "text": [
      "accuracy   =  1138 / 2000\n",
      "Iteration: 1650  Loss: 0.3952772915363312  Accuracy: 0.569 %\n",
      "accuracy   =  1151 / 2000\n",
      "Iteration: 1700  Loss: 0.2970881462097168  Accuracy: 0.5755 %\n"
     ]
    },
    {
     "data": {
      "application/vnd.jupyter.widget-view+json": {
       "model_id": "ac1e91602ac74d4a9726d7225c346772",
       "version_major": 2,
       "version_minor": 0
      },
      "text/plain": [
       "0it [00:00, ?it/s]"
      ]
     },
     "metadata": {},
     "output_type": "display_data"
    },
    {
     "name": "stdout",
     "output_type": "stream",
     "text": [
      "accuracy   =  1142 / 2000\n",
      "Iteration: 1750  Loss: 0.3102250397205353  Accuracy: 0.571 %\n",
      "accuracy   =  1133 / 2000\n",
      "Iteration: 1800  Loss: 0.31142669916152954  Accuracy: 0.5665 %\n"
     ]
    },
    {
     "data": {
      "application/vnd.jupyter.widget-view+json": {
       "model_id": "d01287d271bb4c149aa4e5c2686f075b",
       "version_major": 2,
       "version_minor": 0
      },
      "text/plain": [
       "0it [00:00, ?it/s]"
      ]
     },
     "metadata": {},
     "output_type": "display_data"
    },
    {
     "name": "stdout",
     "output_type": "stream",
     "text": [
      "accuracy   =  1139 / 2000\n",
      "Iteration: 1850  Loss: 0.23340319097042084  Accuracy: 0.5695 %\n",
      "accuracy   =  1129 / 2000\n",
      "Iteration: 1900  Loss: 0.23598574101924896  Accuracy: 0.5645 %\n"
     ]
    },
    {
     "data": {
      "application/vnd.jupyter.widget-view+json": {
       "model_id": "025c19fb030d48098c8711f1e4ef63d0",
       "version_major": 2,
       "version_minor": 0
      },
      "text/plain": [
       "0it [00:00, ?it/s]"
      ]
     },
     "metadata": {},
     "output_type": "display_data"
    },
    {
     "name": "stdout",
     "output_type": "stream",
     "text": [
      "accuracy   =  1129 / 2000\n",
      "Iteration: 1950  Loss: 0.22727099061012268  Accuracy: 0.5645 %\n",
      "accuracy   =  1145 / 2000\n",
      "Iteration: 2000  Loss: 0.18668018281459808  Accuracy: 0.5725 %\n"
     ]
    },
    {
     "data": {
      "application/vnd.jupyter.widget-view+json": {
       "model_id": "0ffcc5d89a194346806ff429a0317ab1",
       "version_major": 2,
       "version_minor": 0
      },
      "text/plain": [
       "0it [00:00, ?it/s]"
      ]
     },
     "metadata": {},
     "output_type": "display_data"
    },
    {
     "name": "stdout",
     "output_type": "stream",
     "text": [
      "accuracy   =  1129 / 2000\n",
      "Iteration: 2050  Loss: 0.21944627165794373  Accuracy: 0.5645 %\n",
      "accuracy   =  1145 / 2000\n",
      "Iteration: 2100  Loss: 0.182402566075325  Accuracy: 0.5725 %\n"
     ]
    },
    {
     "data": {
      "application/vnd.jupyter.widget-view+json": {
       "model_id": "7aa3c008d1704f8db51a92ba63d5f5e7",
       "version_major": 2,
       "version_minor": 0
      },
      "text/plain": [
       "0it [00:00, ?it/s]"
      ]
     },
     "metadata": {},
     "output_type": "display_data"
    },
    {
     "name": "stdout",
     "output_type": "stream",
     "text": [
      "accuracy   =  1138 / 2000\n",
      "Iteration: 2150  Loss: 0.17401304841041565  Accuracy: 0.569 %\n",
      "accuracy   =  1130 / 2000\n",
      "Iteration: 2200  Loss: 0.12285821884870529  Accuracy: 0.565 %\n"
     ]
    },
    {
     "data": {
      "application/vnd.jupyter.widget-view+json": {
       "model_id": "f5cbdef41b5b4b9bb7a30afe06c03f2f",
       "version_major": 2,
       "version_minor": 0
      },
      "text/plain": [
       "0it [00:00, ?it/s]"
      ]
     },
     "metadata": {},
     "output_type": "display_data"
    },
    {
     "name": "stdout",
     "output_type": "stream",
     "text": [
      "accuracy   =  1138 / 2000\n",
      "Iteration: 2250  Loss: 0.1450382024049759  Accuracy: 0.569 %\n",
      "accuracy   =  1132 / 2000\n",
      "Iteration: 2300  Loss: 0.10249578207731247  Accuracy: 0.566 %\n"
     ]
    },
    {
     "data": {
      "application/vnd.jupyter.widget-view+json": {
       "model_id": "fb85ca63bd6a45edb87e6a064689703b",
       "version_major": 2,
       "version_minor": 0
      },
      "text/plain": [
       "0it [00:00, ?it/s]"
      ]
     },
     "metadata": {},
     "output_type": "display_data"
    },
    {
     "name": "stdout",
     "output_type": "stream",
     "text": [
      "accuracy   =  1124 / 2000\n",
      "Iteration: 2350  Loss: 0.11432114243507385  Accuracy: 0.562 %\n",
      "accuracy   =  1142 / 2000\n",
      "Iteration: 2400  Loss: 0.10394607484340668  Accuracy: 0.571 %\n"
     ]
    },
    {
     "data": {
      "application/vnd.jupyter.widget-view+json": {
       "model_id": "16dc5ef8c4a3440f860ed379d2a0f9f3",
       "version_major": 2,
       "version_minor": 0
      },
      "text/plain": [
       "0it [00:00, ?it/s]"
      ]
     },
     "metadata": {},
     "output_type": "display_data"
    },
    {
     "name": "stdout",
     "output_type": "stream",
     "text": [
      "accuracy   =  1131 / 2000\n",
      "Iteration: 2450  Loss: 0.09005356580018997  Accuracy: 0.5655 %\n",
      "accuracy   =  1137 / 2000\n",
      "Iteration: 2500  Loss: 0.08118317276239395  Accuracy: 0.5685 %\n"
     ]
    },
    {
     "data": {
      "application/vnd.jupyter.widget-view+json": {
       "model_id": "eda6bbf3121843c4afab5e45f7f97c8d",
       "version_major": 2,
       "version_minor": 0
      },
      "text/plain": [
       "0it [00:00, ?it/s]"
      ]
     },
     "metadata": {},
     "output_type": "display_data"
    },
    {
     "name": "stdout",
     "output_type": "stream",
     "text": [
      "accuracy   =  1132 / 2000\n",
      "Iteration: 2550  Loss: 0.09086745977401733  Accuracy: 0.566 %\n",
      "accuracy   =  1137 / 2000\n",
      "Iteration: 2600  Loss: 0.08621121197938919  Accuracy: 0.5685 %\n"
     ]
    },
    {
     "data": {
      "application/vnd.jupyter.widget-view+json": {
       "model_id": "d4e54b69bffb4da780cf24a8eb98e767",
       "version_major": 2,
       "version_minor": 0
      },
      "text/plain": [
       "0it [00:00, ?it/s]"
      ]
     },
     "metadata": {},
     "output_type": "display_data"
    },
    {
     "name": "stdout",
     "output_type": "stream",
     "text": [
      "accuracy   =  1116 / 2000\n",
      "Iteration: 2650  Loss: 0.07332518696784973  Accuracy: 0.558 %\n",
      "accuracy   =  1133 / 2000\n",
      "Iteration: 2700  Loss: 0.0555894672870636  Accuracy: 0.5665 %\n"
     ]
    },
    {
     "data": {
      "application/vnd.jupyter.widget-view+json": {
       "model_id": "a9cc323c6b9a4d49bd744c1e70402a9b",
       "version_major": 2,
       "version_minor": 0
      },
      "text/plain": [
       "0it [00:00, ?it/s]"
      ]
     },
     "metadata": {},
     "output_type": "display_data"
    },
    {
     "name": "stdout",
     "output_type": "stream",
     "text": [
      "accuracy   =  1145 / 2000\n",
      "Iteration: 2750  Loss: 0.06280425190925598  Accuracy: 0.5725 %\n",
      "accuracy   =  1129 / 2000\n",
      "Iteration: 2800  Loss: 0.054699551314115524  Accuracy: 0.5645 %\n"
     ]
    },
    {
     "data": {
      "application/vnd.jupyter.widget-view+json": {
       "model_id": "e01d748a885c4a5aa2a5d1bf6954fbcc",
       "version_major": 2,
       "version_minor": 0
      },
      "text/plain": [
       "0it [00:00, ?it/s]"
      ]
     },
     "metadata": {},
     "output_type": "display_data"
    },
    {
     "name": "stdout",
     "output_type": "stream",
     "text": [
      "accuracy   =  1108 / 2000\n",
      "Iteration: 2850  Loss: 0.05867152288556099  Accuracy: 0.554 %\n",
      "accuracy   =  1133 / 2000\n",
      "Iteration: 2900  Loss: 0.05019683763384819  Accuracy: 0.5665 %\n"
     ]
    },
    {
     "data": {
      "application/vnd.jupyter.widget-view+json": {
       "model_id": "914015b8593c44d289d635ccbc799181",
       "version_major": 2,
       "version_minor": 0
      },
      "text/plain": [
       "0it [00:00, ?it/s]"
      ]
     },
     "metadata": {},
     "output_type": "display_data"
    },
    {
     "name": "stdout",
     "output_type": "stream",
     "text": [
      "accuracy   =  1114 / 2000\n",
      "Iteration: 2950  Loss: 0.054673075675964355  Accuracy: 0.557 %\n",
      "accuracy   =  1135 / 2000\n",
      "Iteration: 3000  Loss: 0.045500364154577255  Accuracy: 0.5675 %\n"
     ]
    },
    {
     "data": {
      "application/vnd.jupyter.widget-view+json": {
       "model_id": "6d534637c3b9480c84bae9cb55db77cb",
       "version_major": 2,
       "version_minor": 0
      },
      "text/plain": [
       "0it [00:00, ?it/s]"
      ]
     },
     "metadata": {},
     "output_type": "display_data"
    },
    {
     "name": "stdout",
     "output_type": "stream",
     "text": [
      "accuracy   =  1116 / 2000\n",
      "Iteration: 3050  Loss: 0.049379199743270874  Accuracy: 0.558 %\n",
      "accuracy   =  1145 / 2000\n",
      "Iteration: 3100  Loss: 0.03190792351961136  Accuracy: 0.5725 %\n"
     ]
    },
    {
     "data": {
      "application/vnd.jupyter.widget-view+json": {
       "model_id": "ef12857568674e4c910340d61de737f7",
       "version_major": 2,
       "version_minor": 0
      },
      "text/plain": [
       "0it [00:00, ?it/s]"
      ]
     },
     "metadata": {},
     "output_type": "display_data"
    },
    {
     "name": "stdout",
     "output_type": "stream",
     "text": [
      "accuracy   =  1118 / 2000\n",
      "Iteration: 3150  Loss: 0.04753747954964638  Accuracy: 0.559 %\n",
      "accuracy   =  1133 / 2000\n",
      "Iteration: 3200  Loss: 0.027571411803364754  Accuracy: 0.5665 %\n"
     ]
    },
    {
     "data": {
      "application/vnd.jupyter.widget-view+json": {
       "model_id": "a0daeab44cb5406096979561ffbd9ae2",
       "version_major": 2,
       "version_minor": 0
      },
      "text/plain": [
       "0it [00:00, ?it/s]"
      ]
     },
     "metadata": {},
     "output_type": "display_data"
    },
    {
     "name": "stdout",
     "output_type": "stream",
     "text": [
      "accuracy   =  1118 / 2000\n",
      "Iteration: 3250  Loss: 0.0321216806769371  Accuracy: 0.559 %\n",
      "accuracy   =  1131 / 2000\n",
      "Iteration: 3300  Loss: 0.027244092896580696  Accuracy: 0.5655 %\n"
     ]
    },
    {
     "data": {
      "application/vnd.jupyter.widget-view+json": {
       "model_id": "48784ce6cbc643898837e9d1ba86b9f0",
       "version_major": 2,
       "version_minor": 0
      },
      "text/plain": [
       "0it [00:00, ?it/s]"
      ]
     },
     "metadata": {},
     "output_type": "display_data"
    },
    {
     "name": "stdout",
     "output_type": "stream",
     "text": [
      "accuracy   =  1122 / 2000\n",
      "Iteration: 3350  Loss: 0.031638991087675095  Accuracy: 0.561 %\n",
      "accuracy   =  1132 / 2000\n",
      "Iteration: 3400  Loss: 0.02769654430449009  Accuracy: 0.566 %\n"
     ]
    },
    {
     "data": {
      "application/vnd.jupyter.widget-view+json": {
       "model_id": "32e69c36c6544522a62739d411738e3d",
       "version_major": 2,
       "version_minor": 0
      },
      "text/plain": [
       "0it [00:00, ?it/s]"
      ]
     },
     "metadata": {},
     "output_type": "display_data"
    },
    {
     "name": "stdout",
     "output_type": "stream",
     "text": [
      "accuracy   =  1137 / 2000\n",
      "Iteration: 3450  Loss: 0.03068101406097412  Accuracy: 0.5685 %\n",
      "accuracy   =  1141 / 2000\n",
      "Iteration: 3500  Loss: 0.028267504647374153  Accuracy: 0.5705 %\n"
     ]
    },
    {
     "data": {
      "application/vnd.jupyter.widget-view+json": {
       "model_id": "f2e415ee848d47fb8cd19988d7b3d29c",
       "version_major": 2,
       "version_minor": 0
      },
      "text/plain": [
       "0it [00:00, ?it/s]"
      ]
     },
     "metadata": {},
     "output_type": "display_data"
    },
    {
     "name": "stdout",
     "output_type": "stream",
     "text": [
      "accuracy   =  1128 / 2000\n",
      "Iteration: 3550  Loss: 0.02660016342997551  Accuracy: 0.564 %\n",
      "accuracy   =  1116 / 2000\n",
      "Iteration: 3600  Loss: 0.023800373077392578  Accuracy: 0.558 %\n"
     ]
    },
    {
     "data": {
      "application/vnd.jupyter.widget-view+json": {
       "model_id": "f69165418c81445fa6df0201f5869de9",
       "version_major": 2,
       "version_minor": 0
      },
      "text/plain": [
       "0it [00:00, ?it/s]"
      ]
     },
     "metadata": {},
     "output_type": "display_data"
    },
    {
     "name": "stdout",
     "output_type": "stream",
     "text": [
      "accuracy   =  1121 / 2000\n",
      "Iteration: 3650  Loss: 0.028274552896618843  Accuracy: 0.5605 %\n",
      "accuracy   =  1123 / 2000\n",
      "Iteration: 3700  Loss: 0.02184312976896763  Accuracy: 0.5615 %\n"
     ]
    },
    {
     "data": {
      "application/vnd.jupyter.widget-view+json": {
       "model_id": "4ed6a06d699149369a81fdab1acbf76f",
       "version_major": 2,
       "version_minor": 0
      },
      "text/plain": [
       "0it [00:00, ?it/s]"
      ]
     },
     "metadata": {},
     "output_type": "display_data"
    },
    {
     "name": "stdout",
     "output_type": "stream",
     "text": [
      "accuracy   =  1128 / 2000\n",
      "Iteration: 3750  Loss: 0.02156820334494114  Accuracy: 0.564 %\n",
      "accuracy   =  1126 / 2000\n",
      "Iteration: 3800  Loss: 0.020116599276661873  Accuracy: 0.563 %\n"
     ]
    },
    {
     "data": {
      "application/vnd.jupyter.widget-view+json": {
       "model_id": "fd4deeec760740ecac13be1433b08925",
       "version_major": 2,
       "version_minor": 0
      },
      "text/plain": [
       "0it [00:00, ?it/s]"
      ]
     },
     "metadata": {},
     "output_type": "display_data"
    },
    {
     "name": "stdout",
     "output_type": "stream",
     "text": [
      "accuracy   =  1119 / 2000\n",
      "Iteration: 3850  Loss: 0.02322414331138134  Accuracy: 0.5595 %\n",
      "accuracy   =  1130 / 2000\n",
      "Iteration: 3900  Loss: 0.02050800807774067  Accuracy: 0.565 %\n"
     ]
    },
    {
     "data": {
      "application/vnd.jupyter.widget-view+json": {
       "model_id": "0b70292dadf3468bbee612ed01afc269",
       "version_major": 2,
       "version_minor": 0
      },
      "text/plain": [
       "0it [00:00, ?it/s]"
      ]
     },
     "metadata": {},
     "output_type": "display_data"
    },
    {
     "name": "stdout",
     "output_type": "stream",
     "text": [
      "accuracy   =  1115 / 2000\n",
      "Iteration: 3950  Loss: 0.020136868581175804  Accuracy: 0.5575 %\n",
      "accuracy   =  1121 / 2000\n",
      "Iteration: 4000  Loss: 0.017189696431159973  Accuracy: 0.5605 %\n"
     ]
    },
    {
     "data": {
      "application/vnd.jupyter.widget-view+json": {
       "model_id": "c96e6078f5124cfaa423be4b2b8ba52f",
       "version_major": 2,
       "version_minor": 0
      },
      "text/plain": [
       "0it [00:00, ?it/s]"
      ]
     },
     "metadata": {},
     "output_type": "display_data"
    },
    {
     "name": "stdout",
     "output_type": "stream",
     "text": [
      "accuracy   =  1121 / 2000\n",
      "Iteration: 4050  Loss: 0.02002624422311783  Accuracy: 0.5605 %\n",
      "accuracy   =  1125 / 2000\n",
      "Iteration: 4100  Loss: 0.021390771493315697  Accuracy: 0.5625 %\n"
     ]
    },
    {
     "data": {
      "application/vnd.jupyter.widget-view+json": {
       "model_id": "39510fabb62e4130aebed85c76e2bb43",
       "version_major": 2,
       "version_minor": 0
      },
      "text/plain": [
       "0it [00:00, ?it/s]"
      ]
     },
     "metadata": {},
     "output_type": "display_data"
    },
    {
     "name": "stdout",
     "output_type": "stream",
     "text": [
      "accuracy   =  1130 / 2000\n",
      "Iteration: 4150  Loss: 0.025415992364287376  Accuracy: 0.565 %\n",
      "accuracy   =  1134 / 2000\n",
      "Iteration: 4200  Loss: 0.020056504756212234  Accuracy: 0.567 %\n"
     ]
    },
    {
     "data": {
      "application/vnd.jupyter.widget-view+json": {
       "model_id": "b62debc8a9d74d2889bdbc45c077f29e",
       "version_major": 2,
       "version_minor": 0
      },
      "text/plain": [
       "0it [00:00, ?it/s]"
      ]
     },
     "metadata": {},
     "output_type": "display_data"
    },
    {
     "name": "stdout",
     "output_type": "stream",
     "text": [
      "accuracy   =  1114 / 2000\n",
      "Iteration: 4250  Loss: 0.020712245255708694  Accuracy: 0.557 %\n",
      "accuracy   =  1126 / 2000\n",
      "Iteration: 4300  Loss: 0.013104405254125595  Accuracy: 0.563 %\n"
     ]
    },
    {
     "data": {
      "application/vnd.jupyter.widget-view+json": {
       "model_id": "e8a4e992f02d4284bd6f8e145c02046b",
       "version_major": 2,
       "version_minor": 0
      },
      "text/plain": [
       "0it [00:00, ?it/s]"
      ]
     },
     "metadata": {},
     "output_type": "display_data"
    },
    {
     "name": "stdout",
     "output_type": "stream",
     "text": [
      "accuracy   =  1115 / 2000\n",
      "Iteration: 4350  Loss: 0.01958874985575676  Accuracy: 0.5575 %\n",
      "accuracy   =  1134 / 2000\n",
      "Iteration: 4400  Loss: 0.014791714027523994  Accuracy: 0.567 %\n"
     ]
    },
    {
     "data": {
      "application/vnd.jupyter.widget-view+json": {
       "model_id": "4464644aec9148e39ae6a309e8a82935",
       "version_major": 2,
       "version_minor": 0
      },
      "text/plain": [
       "0it [00:00, ?it/s]"
      ]
     },
     "metadata": {},
     "output_type": "display_data"
    },
    {
     "name": "stdout",
     "output_type": "stream",
     "text": [
      "accuracy   =  1121 / 2000\n",
      "Iteration: 4450  Loss: 0.014226742088794708  Accuracy: 0.5605 %\n",
      "accuracy   =  1133 / 2000\n",
      "Iteration: 4500  Loss: 0.023552322760224342  Accuracy: 0.5665 %\n"
     ]
    },
    {
     "data": {
      "application/vnd.jupyter.widget-view+json": {
       "model_id": "dc28f826729847e09620f43eaa64bb6c",
       "version_major": 2,
       "version_minor": 0
      },
      "text/plain": [
       "0it [00:00, ?it/s]"
      ]
     },
     "metadata": {},
     "output_type": "display_data"
    },
    {
     "name": "stdout",
     "output_type": "stream",
     "text": [
      "accuracy   =  1122 / 2000\n",
      "Iteration: 4550  Loss: 0.015618586912751198  Accuracy: 0.561 %\n",
      "accuracy   =  1139 / 2000\n",
      "Iteration: 4600  Loss: 0.01522362232208252  Accuracy: 0.5695 %\n"
     ]
    },
    {
     "data": {
      "application/vnd.jupyter.widget-view+json": {
       "model_id": "6d529c49258b4474b5473614e8155001",
       "version_major": 2,
       "version_minor": 0
      },
      "text/plain": [
       "0it [00:00, ?it/s]"
      ]
     },
     "metadata": {},
     "output_type": "display_data"
    },
    {
     "name": "stdout",
     "output_type": "stream",
     "text": [
      "accuracy   =  1107 / 2000\n",
      "Iteration: 4650  Loss: 0.021213585510849953  Accuracy: 0.5535 %\n",
      "accuracy   =  1115 / 2000\n",
      "Iteration: 4700  Loss: 0.014256186783313751  Accuracy: 0.5575 %\n"
     ]
    },
    {
     "data": {
      "application/vnd.jupyter.widget-view+json": {
       "model_id": "676de664c01347e08fa0e70c3446a1ff",
       "version_major": 2,
       "version_minor": 0
      },
      "text/plain": [
       "0it [00:00, ?it/s]"
      ]
     },
     "metadata": {},
     "output_type": "display_data"
    },
    {
     "name": "stdout",
     "output_type": "stream",
     "text": [
      "accuracy   =  1112 / 2000\n",
      "Iteration: 4750  Loss: 0.01604369468986988  Accuracy: 0.556 %\n",
      "accuracy   =  1126 / 2000\n",
      "Iteration: 4800  Loss: 0.01552661694586277  Accuracy: 0.563 %\n"
     ]
    },
    {
     "data": {
      "application/vnd.jupyter.widget-view+json": {
       "model_id": "a3f54b86cdec45bbad1e2d6b6c62aba8",
       "version_major": 2,
       "version_minor": 0
      },
      "text/plain": [
       "0it [00:00, ?it/s]"
      ]
     },
     "metadata": {},
     "output_type": "display_data"
    },
    {
     "name": "stdout",
     "output_type": "stream",
     "text": [
      "accuracy   =  1122 / 2000\n",
      "Iteration: 4850  Loss: 0.01218495238572359  Accuracy: 0.561 %\n",
      "accuracy   =  1118 / 2000\n",
      "Iteration: 4900  Loss: 0.014993739314377308  Accuracy: 0.559 %\n"
     ]
    },
    {
     "data": {
      "application/vnd.jupyter.widget-view+json": {
       "model_id": "ba2fe3953d4846cf83643e05e75caa0c",
       "version_major": 2,
       "version_minor": 0
      },
      "text/plain": [
       "0it [00:00, ?it/s]"
      ]
     },
     "metadata": {},
     "output_type": "display_data"
    },
    {
     "name": "stdout",
     "output_type": "stream",
     "text": [
      "accuracy   =  1119 / 2000\n",
      "Iteration: 4950  Loss: 0.015927627682685852  Accuracy: 0.5595 %\n",
      "accuracy   =  1127 / 2000\n",
      "Iteration: 5000  Loss: 0.015344654209911823  Accuracy: 0.5635 %\n"
     ]
    }
   ],
   "source": [
    "# Train model, printed statistics\n",
    "itr = 0\n",
    "loss_list = []\n",
    "iteration_list = []\n",
    "accuracy_list = []\n",
    "\n",
    "for epoch in range(num_epochs):\n",
    "    for i, (images, labels) in tqdm(enumerate(train_loader)):\n",
    "        train = Variable(images.view(100,3,16,16,16))\n",
    "        labels = Variable(labels)\n",
    "        \n",
    "        #  zero_grad : Clear gradients\n",
    "        optimizer.zero_grad()\n",
    "        \n",
    "        # Forward propagation / CNN_classification_model\n",
    "        outputs = model(train)\n",
    "        \n",
    "        # Calculate loss value / using cross entropy function \n",
    "        labels= labels.argmax(-1)\n",
    "        loss = error(outputs, labels)\n",
    "        loss.backward()\n",
    "        \n",
    "        # Update parameters using SGD optimizer \n",
    "        optimizer.step()\n",
    "        \n",
    "        #calculate the accuracy using test data\n",
    "        itr += 1\n",
    "        if itr % 50 == 0:\n",
    "            # Prepare a list of correct results and a list of anticipated results.     \n",
    "            listLabels=[]\n",
    "            listpredicted=[]\n",
    "            # test_loader\n",
    "            for images, labels in test_loader:\n",
    "\n",
    "                test = Variable(images.view(100,3,16,16,16))\n",
    "                # Forward propagation\n",
    "                outputs = model(test)\n",
    "\n",
    "                # Get predictions from the maximum value\n",
    "                predicted = torch.max(outputs.data, 1)[1]\n",
    "                \n",
    "                # used to convert the output to binary variables\n",
    "                predicted= one_hot_data (predicted) \n",
    "                # Create a list of predicted data\n",
    "                predlist=[]\n",
    "                for i in range(len(predicted)):\n",
    "                    p = int(torch.argmax(predicted[i]))\n",
    "                    predlist.append(p)\n",
    "\n",
    "                \n",
    "                listLabels+=(labels.argmax(-1).tolist())\n",
    "                listpredicted+=(predlist)\n",
    "\n",
    "                \n",
    "                # calculate Accuracy\n",
    "            accuracy= accuracyFUNCTION(listpredicted, listLabels)\n",
    "            print('Iteration: {}  Loss: {}  Accuracy: {} %'.format(itr, loss.data, accuracy))\n",
    "\n",
    "            # store loss and accuracy. They'll be required to print the curve.\n",
    "            loss_list.append(loss.data)\n",
    "            accuracy_list.append(accuracy)"
   ]
  },
  {
   "cell_type": "markdown",
   "id": "bc8d8330",
   "metadata": {},
   "source": [
    "## Model Analysis\n",
    "The model accuracy and loss will now be visualized using a graph showing the drop in loss and increase in accuracy as a function of epochs. A confusion matrix is also created in order to show which classes are most frequently mixed up"
   ]
  },
  {
   "cell_type": "code",
   "execution_count": 28,
   "id": "dd61f357",
   "metadata": {},
   "outputs": [
    {
     "data": {
      "image/png": "[encoded data removed]",
      "text/plain": [
       "<Figure size 1200x700 with 1 Axes>"
      ]
     },
     "metadata": {},
     "output_type": "display_data"
    }
   ],
   "source": [
    "# Display the accuracy and loss over each training epoch\n",
    "sns.set()\n",
    "sns.set(rc={'figure.figsize':(12,7)}, font_scale=1)\n",
    "plt.plot(accuracy_list,'b')\n",
    "plt.plot(loss_list,'r')\n",
    "\n",
    "plt.rcParams['figure.figsize'] = (7, 4)\n",
    "plt.xlabel(\"Epochs\")\n",
    "plt.ylabel(\"Accuracy\")\n",
    "plt.title(\"Training step:  Accuracy vs Loss \")\n",
    "plt.legend(['Accuracy','Loss'])\n",
    "plt.show()"
   ]
  },
  {
   "cell_type": "code",
   "execution_count": 32,
   "id": "93152786",
   "metadata": {},
   "outputs": [
    {
     "name": "stderr",
     "output_type": "stream",
     "text": [
      "/tmp/ipykernel_29914/160710607.py:16: MatplotlibDeprecationWarning: Auto-removal of overlapping axes is deprecated since 3.6 and will be removed two minor releases later; explicitly call ax.remove() as needed.\n",
      "  ax= plt.subplot()\n"
     ]
    },
    {
     "data": {
      "image/png": "[encoded data removed]",
      "text/plain": [
       "<Figure size 700x400 with 2 Axes>"
      ]
     },
     "metadata": {},
     "output_type": "display_data"
    }
   ],
   "source": [
    "# Confusion matrix to see what labels are confused with each other\n",
    "predictionlist=[]\n",
    "\n",
    "for i in range(len(outputs)):\n",
    "    p = int(torch.argmax(outputs[i]))\n",
    "    predictionlist.append(p)\n",
    "    \n",
    "labels1=labels.argmax(-1).tolist()\n",
    "labels1= [str(x) for x in labels1]\n",
    "\n",
    "predictionlist= [str(x) for x in predictionlist]\n",
    "labelsLIST = ['0','1', '2','3', '4','5', '6','7', '8','9']\n",
    "cm = confusion_matrix(labels1, predictionlist, labels=labelsLIST)\n",
    "ConfusionMatrixDisplay(cm).plot()\n",
    "\n",
    "ax= plt.subplot()\n",
    "sns.heatmap(cm, annot=True, ax = ax, cmap=plt.cm.Blues); #annot=True to annotate cells\n",
    "\n",
    "# labels, title and ticks\n",
    "ax.set_xlabel('Predicted labels');ax.set_ylabel('True labels') \n",
    "ax.set_title('Confusion Matrix'); \n",
    "ax.xaxis.set_ticklabels( ['0','1', '2','3', '4','5', '6','7', '8','9']); ax.yaxis.set_ticklabels(['0','1', '2','3', '4','5', '6','7', '8','9'])\n",
    "plt.rcParams['figure.figsize'] = (8, 7)\n",
    "plt.show()"
   ]
  },
  {
   "cell_type": "markdown",
   "id": "7b7ccf16",
   "metadata": {},
   "source": [
    "As demonstrated, the 3D convolution takes a significant amount of time to train but can be reasonably accurate. It is not likely that this will be computationally feasible for the analyis of higher resolution tomographic data, but theoretically it could work to identify aligned and misaligned projection stacks. However, while a classifier may be feasible it is unlikely that a transformer would be feasible."
   ]
  },
  {
   "cell_type": "code",
   "execution_count": null,
   "id": "4a3a5015",
   "metadata": {},
   "outputs": [],
   "source": []
  }
 ],
 "metadata": {
  "kernelspec": {
   "display_name": "Python 3 (ipykernel)",
   "language": "python",
   "name": "python3"
  },
  "language_info": {
   "codemirror_mode": {
    "name": "ipython",
    "version": 3
   },
   "file_extension": ".py",
   "mimetype": "text/x-python",
   "name": "python",
   "nbconvert_exporter": "python",
   "pygments_lexer": "ipython3",
   "version": "3.11.3"
  }
 },
 "nbformat": 4,
 "nbformat_minor": 5
}
