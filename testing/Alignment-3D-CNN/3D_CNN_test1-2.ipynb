{
 "cells": [
  {
   "cell_type": "markdown",
   "id": "d38a6e3f",
   "metadata": {},
   "source": [
    "# 3D Convolutional Neural Network for Tomographic Alignment\n",
    "\n",
    "## Regular CNN\n",
    "\n",
    "In order to test potential methods for performing automatic tomographic alignment using neural networks, we start with a standard model using a three dimensional convolution. The main problem with tomographic alignment is that a stack of two dimensional projections have to be processed simultameously for optimal results. While two dimensional convolutions can be used with channels corresponding with each projection angle, this is likely similar in computational complexity to a three dimensional neural network. Therefore the approach for this test is similar to video classification, where each frame in a video is is instead each projection angle.\n",
    "\n",
    "In order to test if this method can provide a convergence, phantoms will be artificially misaligned to create a training and testing set. But first packages for tomography, image transformations, and neural networks have to be imported."
   ]
  },
  {
   "cell_type": "code",
   "execution_count": 16,
   "id": "857669b6",
   "metadata": {},
   "outputs": [],
   "source": [
    "# Import essential packages\n",
    "import os\n",
    "import numpy as np\n",
    "import matplotlib.pyplot as plt\n",
    "\n",
    "# Import tomography and imaging packages\n",
    "import tomopy\n",
    "from skimage.transform import rotate, AffineTransform\n",
    "from skimage import transform as tf\n",
    "\n",
    "# Import neural net packages\n",
    "import torch\n",
    "import torch.nn as nn\n",
    "import torch.nn.functional as F\n",
    "import torch.optim as optim\n",
    "from torch.utils.tensorboard import SummaryWriter\n",
    "from torchinfo import summary"
   ]
  },
  {
   "cell_type": "markdown",
   "id": "df3211a1",
   "metadata": {},
   "source": [
    "Since the model will be a computationally complex CNN, we must ensure that the GPU is being used for calculations or else computation will be far too slow."
   ]
  },
  {
   "cell_type": "code",
   "execution_count": 17,
   "id": "6a4cdb5f",
   "metadata": {},
   "outputs": [
    {
     "name": "stdout",
     "output_type": "stream",
     "text": [
      "Working Environment: pytorch\n",
      "Cuda Version: 11.8\n",
      "Cuda Availability: True\n"
     ]
    }
   ],
   "source": [
    "# Checking to ensure environment and cuda are correct\n",
    "print(\"Working Environment: {}\".format(os.environ['CONDA_DEFAULT_ENV']))\n",
    "os.environ['CUDA_VISIBLE_DEVICES'] = '0'\n",
    "print(\"Cuda Version: {}\".format(torch.version.cuda))\n",
    "print(\"Cuda Availability: {}\".format(torch.cuda.is_available()))"
   ]
  },
  {
   "cell_type": "markdown",
   "id": "fa59c4b1",
   "metadata": {},
   "source": [
    "Now that the packages have been imported and CUDA is set up correctly, the next step is to create the dataset to be used for training and testing the neural network. The misalignment function is created to perform different random misalignments on the phantom set of tomographic scans. The shape of all of the data is then checked for errors and the data is split into training and testing sets."
   ]
  },
  {
   "cell_type": "code",
   "execution_count": 18,
   "id": "9a6e3cf5",
   "metadata": {},
   "outputs": [],
   "source": [
    "# Define function for artificial misalignment\n",
    "def misalign(prj, mis_axis, ang_tilt = False, noise = False, background = False):\n",
    "    num_prj, col, row = prj.shape\n",
    "    dx = mis_axis[:, 0]\n",
    "    dy = mis_axis[:, 1]\n",
    "    prj_tmp = tomopy.shift_images(prj, dx, dy)\n",
    "    \n",
    "    for i in range(num_prj):\n",
    "        d_row, d_col, d_ang = mis_axis[i]\n",
    "        \n",
    "        if ang_tilt == True:\n",
    "            prj_tmp[i, :, :] = rotate(prj[i,:,:], d_ang)\n",
    "        else:\n",
    "            prj_tmp[i, :, :] = prj[i,:,:]\n",
    "        \n",
    "        if noise == True:\n",
    "            prj_tmp[i, :, :] = random_noise(prj_tmp[i, :, :], mode = 'gaussian')\n",
    "            \n",
    "        if background == True:\n",
    "            prj_tmp[i, :, :] = prj_tmp[i, :, :]+np.random.random()/5\n",
    "            prj_tmp[i, :, :] = prj_tmp[i, :, :]/prj_tmp[i, :, :].max()  \n",
    "            \n",
    "    return prj_tmp"
   ]
  },
  {
   "cell_type": "code",
   "execution_count": 4,
   "id": "7d6d6222",
   "metadata": {},
   "outputs": [],
   "source": [
    "# Creating ground truth tomography\n",
    "data = tomopy.shepp3d(256)\n",
    "ang = tomopy.angles(180)\n",
    "proj = tomopy.project(data, ang)"
   ]
  },
  {
   "cell_type": "code",
   "execution_count": 5,
   "id": "ad05f1db",
   "metadata": {},
   "outputs": [],
   "source": [
    "# Create dataset to store misaligned projections and \n",
    "entries = 120\n",
    "dataset = np.zeros((entries, 2), dtype = object)\n",
    "\n",
    "for i in range(entries):\n",
    "    # Randomly determined misalignment axis\n",
    "    mis_axis = np.random.normal(0, 1, (200, 3))\n",
    "    mis_axis[:, :1] = mis_axis[:, :1]*4\n",
    "    mis_axis = np.round(mis_axis).astype(int)\n",
    "    mis_axis_in = np.expand_dims(mis_axis, axis = 0)\n",
    "    \n",
    "    proj_mis = misalign(proj.copy(), mis_axis, ang_tilt = True)\n",
    "    proj_mis = np.expand_dims(proj_mis, axis = 0)\n",
    "    proj_mis = np.expand_dims(proj_mis, axis = 0)\n",
    "    \n",
    "    dataset[i, 0] = proj_mis\n",
    "    dataset[i, 1] = np.concatenate((mis_axis_in[:, :180, 0], mis_axis_in[:, :180, 1]), axis = 1)"
   ]
  },
  {
   "cell_type": "code",
   "execution_count": 6,
   "id": "3a40b9a7",
   "metadata": {},
   "outputs": [
    {
     "name": "stdout",
     "output_type": "stream",
     "text": [
      "(120, 2)\n",
      "(2,)\n",
      "(2,)\n",
      "(1, 1, 180, 256, 366)\n",
      "(1, 360)\n"
     ]
    }
   ],
   "source": [
    "# Checking shape of dataset\n",
    "print(dataset.shape)\n",
    "print(dataset[0].shape)\n",
    "print(dataset[1].shape)\n",
    "print(dataset[1][0].shape)\n",
    "print(dataset[1][1].shape)"
   ]
  },
  {
   "cell_type": "code",
   "execution_count": 7,
   "id": "5db372e6",
   "metadata": {},
   "outputs": [
    {
     "name": "stdout",
     "output_type": "stream",
     "text": [
      "(96, 2)\n",
      "(24, 2)\n"
     ]
    }
   ],
   "source": [
    "# Checking shape of training and testing splits\n",
    "trainset, testset = np.split(dataset, [int(entries* 4 / 5)])\n",
    "print(trainset.shape)\n",
    "print(testset.shape)"
   ]
  },
  {
   "cell_type": "markdown",
   "id": "0b3333fc",
   "metadata": {},
   "source": [
    "Now that the data has been set up, the CUDA cache should be cleared and the model will be implemented."
   ]
  },
  {
   "cell_type": "code",
   "execution_count": 19,
   "id": "97f9f73b",
   "metadata": {},
   "outputs": [
    {
     "name": "stdout",
     "output_type": "stream",
     "text": [
      "Cleared Cache.\n"
     ]
    }
   ],
   "source": [
    "torch.cuda.empty_cache()\n",
    "print(\"Cleared Cache.\")"
   ]
  },
  {
   "cell_type": "code",
   "execution_count": 20,
   "id": "1a0e77e3",
   "metadata": {},
   "outputs": [],
   "source": [
    "# Normalize data\n",
    "def norm(proj):\n",
    "    proj = (proj - torch.min(proj)) / (torch.max(proj) - torch.min(proj))\n",
    "    return proj\n",
    "\n",
    "# 3D CNN to determine shift parameters\n",
    "\n",
    "class CNN_3D_aligner(nn.Module):\n",
    "    def __init__(self):\n",
    "        super(CNN_3D_aligner, self).__init__()\n",
    "\n",
    "        self.group1 = nn.Sequential(\n",
    "            nn.Conv3d(1, 45, kernel_size = (7, 7, 7), padding = 0), \n",
    "            nn.BatchNorm3d(45),\n",
    "            nn.ReLU(),\n",
    "            nn.MaxPool3d((2, 2, 2)) \n",
    "        )\n",
    "        \n",
    "        self.group2 = nn.Sequential(\n",
    "            nn.Conv3d(45, 90, kernel_size = (3, 3, 3), padding = 0), \n",
    "            nn.BatchNorm3d(90),\n",
    "            nn.ReLU(),\n",
    "            nn.MaxPool3d((2, 2, 2)) \n",
    "        )\n",
    "        \n",
    "        self.group3 = nn.Sequential(\n",
    "            nn.Conv3d(90, 180, kernel_size = (3, 3, 3), padding = 0), \n",
    "            nn.BatchNorm3d(180),\n",
    "            nn.ReLU(),\n",
    "            nn.Conv3d(180, 180, kernel_size = (3, 3, 3), padding = 0), \n",
    "            nn.BatchNorm3d(180),\n",
    "            nn.ReLU(),\n",
    "            nn.MaxPool3d((2, 2, 2)) \n",
    "        )\n",
    "        \n",
    "        self.group4 = nn.Sequential(\n",
    "            nn.Conv3d(180, 360, kernel_size = (3, 3, 3), padding = 0), \n",
    "            nn.BatchNorm3d(360),\n",
    "            nn.ReLU(),\n",
    "            nn.Conv3d(360, 360, kernel_size = (3, 3, 3), padding = 0), \n",
    "            nn.BatchNorm3d(360),\n",
    "            nn.ReLU(),\n",
    "            nn.MaxPool3d((2, 2, 2)) \n",
    "        )\n",
    "        \n",
    "        self.group5 = nn.Sequential(\n",
    "            nn.Conv3d(360, 720, kernel_size = (3, 3, 3), padding = 0), \n",
    "            nn.BatchNorm3d(720),\n",
    "            nn.ReLU(),\n",
    "            nn.Conv3d(720, 720, kernel_size = (3, 3, 3), padding = 0), \n",
    "            nn.BatchNorm3d(720),\n",
    "            nn.ReLU(),\n",
    "            nn.MaxPool3d((2, 2, 2)) \n",
    "        )\n",
    "        \n",
    "        self.flatten = nn.Flatten()\n",
    "        \n",
    "        self.fc1 = nn.Sequential(\n",
    "            nn.Linear(20160, 2016),\n",
    "            nn.ReLU(),\n",
    "            nn.Dropout(0.5)\n",
    "        )\n",
    "        \n",
    "        self.fc2 = nn.Linear(2016, 360)\n",
    "\n",
    "    def forward(self, x):\n",
    "        \n",
    "        x = norm(x)\n",
    "        \n",
    "        x = self.group1(x)\n",
    "        x = self.group2(x)\n",
    "        x = self.group3(x)\n",
    "        x = self.group4(x)\n",
    "        x = self.group5(x)\n",
    "        \n",
    "        x = self.flatten(x)\n",
    "        x = self.fc1(x)\n",
    "        x = self.fc2(x)\n",
    "        \n",
    "        return x"
   ]
  },
  {
   "cell_type": "markdown",
   "id": "24834a02",
   "metadata": {},
   "source": [
    "In order to ensure the network works and understand its structure before training data on it, use the summary function in order to get an understanding of the network and fix any linear algebra errors in creating the neural network."
   ]
  },
  {
   "cell_type": "code",
   "execution_count": 21,
   "id": "f3073b1a",
   "metadata": {},
   "outputs": [
    {
     "data": {
      "text/plain": [
       "==========================================================================================\n",
       "Layer (type:depth-idx)                   Output Shape              Param #\n",
       "==========================================================================================\n",
       "CNN_3D_aligner                           [1, 360]                  --\n",
       "├─Sequential: 1-1                        [1, 45, 87, 125, 180]     --\n",
       "│    └─Conv3d: 2-1                       [1, 45, 174, 250, 360]    15,480\n",
       "│    └─BatchNorm3d: 2-2                  [1, 45, 174, 250, 360]    90\n",
       "│    └─ReLU: 2-3                         [1, 45, 174, 250, 360]    --\n",
       "│    └─MaxPool3d: 2-4                    [1, 45, 87, 125, 180]     --\n",
       "├─Sequential: 1-2                        [1, 90, 42, 61, 89]       --\n",
       "│    └─Conv3d: 2-5                       [1, 90, 85, 123, 178]     109,440\n",
       "│    └─BatchNorm3d: 2-6                  [1, 90, 85, 123, 178]     180\n",
       "│    └─ReLU: 2-7                         [1, 90, 85, 123, 178]     --\n",
       "│    └─MaxPool3d: 2-8                    [1, 90, 42, 61, 89]       --\n",
       "├─Sequential: 1-3                        [1, 180, 19, 28, 42]      --\n",
       "│    └─Conv3d: 2-9                       [1, 180, 40, 59, 87]      437,580\n",
       "│    └─BatchNorm3d: 2-10                 [1, 180, 40, 59, 87]      360\n",
       "│    └─ReLU: 2-11                        [1, 180, 40, 59, 87]      --\n",
       "│    └─Conv3d: 2-12                      [1, 180, 38, 57, 85]      874,980\n",
       "│    └─BatchNorm3d: 2-13                 [1, 180, 38, 57, 85]      360\n",
       "│    └─ReLU: 2-14                        [1, 180, 38, 57, 85]      --\n",
       "│    └─MaxPool3d: 2-15                   [1, 180, 19, 28, 42]      --\n",
       "├─Sequential: 1-4                        [1, 360, 7, 12, 19]       --\n",
       "│    └─Conv3d: 2-16                      [1, 360, 17, 26, 40]      1,749,960\n",
       "│    └─BatchNorm3d: 2-17                 [1, 360, 17, 26, 40]      720\n",
       "│    └─ReLU: 2-18                        [1, 360, 17, 26, 40]      --\n",
       "│    └─Conv3d: 2-19                      [1, 360, 15, 24, 38]      3,499,560\n",
       "│    └─BatchNorm3d: 2-20                 [1, 360, 15, 24, 38]      720\n",
       "│    └─ReLU: 2-21                        [1, 360, 15, 24, 38]      --\n",
       "│    └─MaxPool3d: 2-22                   [1, 360, 7, 12, 19]       --\n",
       "├─Sequential: 1-5                        [1, 720, 1, 4, 7]         --\n",
       "│    └─Conv3d: 2-23                      [1, 720, 5, 10, 17]       6,999,120\n",
       "│    └─BatchNorm3d: 2-24                 [1, 720, 5, 10, 17]       1,440\n",
       "│    └─ReLU: 2-25                        [1, 720, 5, 10, 17]       --\n",
       "│    └─Conv3d: 2-26                      [1, 720, 3, 8, 15]        13,997,520\n",
       "│    └─BatchNorm3d: 2-27                 [1, 720, 3, 8, 15]        1,440\n",
       "│    └─ReLU: 2-28                        [1, 720, 3, 8, 15]        --\n",
       "│    └─MaxPool3d: 2-29                   [1, 720, 1, 4, 7]         --\n",
       "├─Flatten: 1-6                           [1, 20160]                --\n",
       "├─Sequential: 1-7                        [1, 2016]                 --\n",
       "│    └─Linear: 2-30                      [1, 2016]                 40,644,576\n",
       "│    └─ReLU: 2-31                        [1, 2016]                 --\n",
       "│    └─Dropout: 2-32                     [1, 2016]                 --\n",
       "├─Linear: 1-8                            [1, 360]                  726,120\n",
       "==========================================================================================\n",
       "Total params: 69,059,646\n",
       "Trainable params: 69,059,646\n",
       "Non-trainable params: 0\n",
       "Total mult-adds (Units.GIGABYTES): 786.86\n",
       "==========================================================================================\n",
       "Input size (MB): 67.46\n",
       "Forward/backward pass size (MB): 15271.18\n",
       "Params size (MB): 276.24\n",
       "Estimated Total Size (MB): 15614.88\n",
       "=========================================================================================="
      ]
     },
     "execution_count": 21,
     "metadata": {},
     "output_type": "execute_result"
    }
   ],
   "source": [
    "# Test model shape\n",
    "model = CNN_3D_aligner()\n",
    "summary(model, (1, 1, 180, 256, 366))"
   ]
  },
  {
   "cell_type": "markdown",
   "id": "d016ceed",
   "metadata": {},
   "source": [
    "Now the model can be trained, making sure to move all of the elements of the training process to the GPU to optimize computational speed."
   ]
  },
  {
   "cell_type": "code",
   "execution_count": 22,
   "id": "625db813",
   "metadata": {},
   "outputs": [
    {
     "name": "stdout",
     "output_type": "stream",
     "text": [
      "Device: cuda:0\n",
      "Iteration: 96   Loss: 3122.821088155111 \n",
      "Iteration: 192   Loss: 3118.968236287435 \n",
      "Iteration: 288   Loss: 3122.6758575439453 \n",
      "Iteration: 384   Loss: 3120.5310974121094 \n",
      "Iteration: 480   Loss: 3131.7755330403647 \n",
      "Iteration: 576   Loss: 3128.817970275879 \n",
      "Iteration: 672   Loss: 3119.9546686808267 \n",
      "Iteration: 768   Loss: 3131.057139078776 \n",
      "Iteration: 864   Loss: 3123.6515935262046 \n",
      "Iteration: 960   Loss: 3125.0819244384766 \n",
      "Iteration: 1056   Loss: 3127.9797719319663 \n",
      "Iteration: 1152   Loss: 3127.232810974121 \n",
      "Iteration: 1248   Loss: 3135.678136189779 \n",
      "Iteration: 1344   Loss: 3128.9398905436196 \n",
      "Iteration: 1440   Loss: 3123.9982884724936 \n",
      "Iteration: 1536   Loss: 3120.574862162272 \n",
      "Iteration: 1632   Loss: 3124.788993835449 \n",
      "Iteration: 1728   Loss: 3122.528366088867 \n",
      "Iteration: 1824   Loss: 3125.087448120117 \n",
      "Iteration: 1920   Loss: 3128.7257944742837 \n",
      "Iteration: 2016   Loss: 3125.0548299153647 \n",
      "Iteration: 2112   Loss: 3125.3249028523765 \n",
      "Iteration: 2208   Loss: 3132.9493713378906 \n",
      "Iteration: 2304   Loss: 3126.4357681274414 \n",
      "Iteration: 2400   Loss: 3121.0408045450845 \n",
      "Iteration: 2496   Loss: 3127.100041707357 \n",
      "Iteration: 2592   Loss: 3125.3799997965493 \n",
      "Iteration: 2688   Loss: 3129.369598388672 \n",
      "Iteration: 2784   Loss: 3125.642603556315 \n",
      "Iteration: 2880   Loss: 3124.2470779418945 \n",
      "Iteration: 2976   Loss: 3133.4060262044272 \n",
      "Iteration: 3072   Loss: 3116.253262837728 \n",
      "Iteration: 3168   Loss: 3124.816032409668 \n",
      "Iteration: 3264   Loss: 3131.0855153401694 \n",
      "Iteration: 3360   Loss: 3123.5929260253906 \n",
      "Iteration: 3456   Loss: 3124.4155629475913 \n",
      "Iteration: 3552   Loss: 3123.469830830892 \n",
      "Iteration: 3648   Loss: 3122.806610107422 \n",
      "Iteration: 3744   Loss: 3126.7139434814453 \n",
      "Iteration: 3840   Loss: 3121.9514185587564 \n",
      "Iteration: 3936   Loss: 3128.326311747233 \n",
      "Iteration: 4032   Loss: 3124.4204381306968 \n",
      "Iteration: 4128   Loss: 3126.3081258138022 \n",
      "Iteration: 4224   Loss: 3125.722895304362 \n",
      "Iteration: 4320   Loss: 3128.4440307617188 \n",
      "Iteration: 4416   Loss: 3130.096476236979 \n",
      "Iteration: 4512   Loss: 3125.1730143229165 \n",
      "Iteration: 4608   Loss: 3129.3012186686196 \n",
      "Iteration: 4704   Loss: 3126.0595626831055 \n",
      "Iteration: 4800   Loss: 3125.9993591308594 \n",
      "Iteration: 4896   Loss: 3126.639518737793 \n",
      "Iteration: 4992   Loss: 3120.9213638305664 \n",
      "Iteration: 5088   Loss: 3128.50323232015 \n",
      "Iteration: 5184   Loss: 3126.099942525228 \n",
      "Iteration: 5280   Loss: 3117.5987269083657 \n",
      "Iteration: 5376   Loss: 3121.028996785482 \n",
      "Iteration: 5472   Loss: 3127.297561645508 \n",
      "Iteration: 5568   Loss: 3129.933713277181 \n",
      "Iteration: 5664   Loss: 3125.164965311686 \n",
      "Iteration: 5760   Loss: 3127.520462036133 \n",
      "Iteration: 5856   Loss: 3130.8877614339194 \n",
      "Iteration: 5952   Loss: 3128.1503092447915 \n",
      "Iteration: 6048   Loss: 3127.79815419515 \n",
      "Iteration: 6144   Loss: 3129.3611424764 \n",
      "Iteration: 6240   Loss: 3122.7226435343423 \n",
      "Iteration: 6336   Loss: 3124.396354675293 \n",
      "Iteration: 6432   Loss: 3122.176470438639 \n",
      "Iteration: 6528   Loss: 3121.3547897338867 \n",
      "Iteration: 6624   Loss: 3125.9672495524087 \n",
      "Iteration: 6720   Loss: 3126.57275390625 \n",
      "Iteration: 6816   Loss: 3123.7612584431968 \n",
      "Iteration: 6912   Loss: 3128.930404663086 \n",
      "Iteration: 7008   Loss: 3121.986452738444 \n",
      "Iteration: 7104   Loss: 3123.786023457845 \n",
      "Iteration: 7200   Loss: 3131.459518432617 \n",
      "Iteration: 7296   Loss: 3135.7827351888022 \n",
      "Iteration: 7392   Loss: 3124.77628326416 \n",
      "Iteration: 7488   Loss: 3126.8920237223306 \n",
      "Iteration: 7584   Loss: 3125.9071909586587 \n",
      "Iteration: 7680   Loss: 3129.7199045817056 \n",
      "Iteration: 7776   Loss: 3126.0140991210938 \n",
      "Iteration: 7872   Loss: 3126.413126627604 \n",
      "Iteration: 7968   Loss: 3119.6366246541343 \n",
      "Iteration: 8064   Loss: 3122.2980168660483 \n",
      "Iteration: 8160   Loss: 3125.0064442952475 \n",
      "Iteration: 8256   Loss: 3126.670369466146 \n",
      "Iteration: 8352   Loss: 3123.0795262654624 \n",
      "Iteration: 8448   Loss: 3127.0929005940757 \n",
      "Iteration: 8544   Loss: 3129.3440322875977 \n",
      "Iteration: 8640   Loss: 3125.6366984049478 \n",
      "Iteration: 8736   Loss: 3129.9705251057944 \n",
      "Iteration: 8832   Loss: 3129.103314717611 \n",
      "Iteration: 8928   Loss: 3124.3678690592446 \n",
      "Iteration: 9024   Loss: 3131.1416015625 \n",
      "Iteration: 9120   Loss: 3126.2298863728843 \n",
      "Iteration: 9216   Loss: 3123.0739084879556 \n",
      "Iteration: 9312   Loss: 3122.8862101236978 \n",
      "Iteration: 9408   Loss: 3124.689692179362 \n",
      "Iteration: 9504   Loss: 3123.461570739746 \n",
      "Iteration: 9600   Loss: 3126.4834620157876 \n"
     ]
    }
   ],
   "source": [
    "# Train the model\n",
    "\n",
    "# Create writer to analyze loss over each epoch\n",
    "writer = SummaryWriter()\n",
    "\n",
    "# Set device to CUDA if available, initialize model\n",
    "device = torch.device('cuda:0' if torch.cuda.is_available() else 'cpu')\n",
    "print('Device: {}'.format(device))\n",
    "net = CNN_3D_aligner()\n",
    "net.to(device)\n",
    "\n",
    "# Set up optimizer and loss function, set number of epochs\n",
    "optimizer = optim.SGD(net.parameters(), lr = 1e-3, momentum = 0.9)\n",
    "criterion = nn.MSELoss(reduction = 'sum')\n",
    "criterion.to(device)\n",
    "num_epochs = 100\n",
    "\n",
    "# Iniitializing variables to show statistics\n",
    "iteration = 0\n",
    "loss_list = []\n",
    "epoch_loss_averages = []\n",
    "\n",
    "# Iterates over dataset multiple times\n",
    "for epoch in range(num_epochs):\n",
    "    epoch_loss = 0\n",
    "    for i, data in enumerate(trainset, 0):\n",
    "        inputs, truths = norm(torch.from_numpy(data[0]).to(device)), torch.from_numpy(data[1]).to(device).float()\n",
    "        optimizer.zero_grad()\n",
    "\n",
    "        outputs = net(inputs).to(device)\n",
    "        loss = criterion(outputs, truths)\n",
    "        writer.add_scalar(\"Loss / Train\", loss, epoch) # adds training loss scalar\n",
    "        loss_list.append(loss.cpu().detach().numpy())\n",
    "        epoch_loss += loss.cpu().detach().numpy()\n",
    "        loss.backward()\n",
    "        optimizer.step\n",
    "\n",
    "        iteration += 1\n",
    "        if iteration % trainset.shape[0] == 0:\n",
    "            epoch_loss_averages.append(epoch_loss / trainset.shape[0])\n",
    "            print('Iteration: {}   Loss: {} '.format(iteration, epoch_loss / trainset.shape[0]))\n",
    "            \n",
    "writer.flush()\n",
    "writer.close()"
   ]
  },
  {
   "cell_type": "markdown",
   "id": "9e0c50b0",
   "metadata": {},
   "source": [
    "Now in order to observe convergence or lack thereof graphs of loss per iteration as well as a moving average based on each epoch are created for analysis."
   ]
  },
  {
   "cell_type": "code",
   "execution_count": 23,
   "id": "60a43387",
   "metadata": {},
   "outputs": [
    {
     "data": {
      "image/png": "[encoded data removed]",
      "text/plain": [
       "<Figure size 432x288 with 1 Axes>"
      ]
     },
     "metadata": {
      "needs_background": "light"
     },
     "output_type": "display_data"
    }
   ],
   "source": [
    "# Plot epoch loss to test for convergence\n",
    "plt.plot(epoch_loss_averages)\n",
    "plt.xlabel('Epoch')\n",
    "plt.ylabel('Loss')\n",
    "plt.show()"
   ]
  },
  {
   "cell_type": "markdown",
   "id": "79f0db4f",
   "metadata": {},
   "source": [
    "As seen above, this neural network fails to create convergence for the dataset. However, the fact that the loss does not stay completely constant is promising and it is possible that a deeper neural network can prove to solve this problem. The main restrictions at this point are memory allocation errors and different frameworks will have to be used in order to create a neural network with the depth necessary to observe convergence."
   ]
  }
 ],
 "metadata": {
  "kernelspec": {
   "display_name": "Python 3 (ipykernel)",
   "language": "python",
   "name": "python3"
  },
  "language_info": {
   "codemirror_mode": {
    "name": "ipython",
    "version": 3
   },
   "file_extension": ".py",
   "mimetype": "text/x-python",
   "name": "python",
   "nbconvert_exporter": "python",
   "pygments_lexer": "ipython3",
   "version": "3.11.3"
  }
 },
 "nbformat": 4,
 "nbformat_minor": 5
}
