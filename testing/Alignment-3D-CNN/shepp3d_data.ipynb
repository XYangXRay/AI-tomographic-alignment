{
 "cells": [
  {
   "cell_type": "markdown",
   "id": "f841278b",
   "metadata": {},
   "source": [
    "# Data Saving and Loading\n",
    "\n",
    "This file contains the code for saving and loading misaligned tomographic data with misalignment vector labels as numpy n-d arrays."
   ]
  },
  {
   "cell_type": "code",
   "execution_count": 1,
   "id": "09a30b96",
   "metadata": {},
   "outputs": [
    {
     "name": "stdout",
     "output_type": "stream",
     "text": [
      "/home/liam/Projects/Tomographic Alignment\r\n"
     ]
    }
   ],
   "source": [
    "# Import essential packages\n",
    "import os\n",
    "import numpy as np\n",
    "import matplotlib.pyplot as plt\n",
    "\n",
    "# Import tomography and imaging packages\n",
    "import tomopy\n",
    "from skimage.transform import rotate, AffineTransform\n",
    "from skimage import transform as tf\n",
    "\n",
    "!pwd"
   ]
  },
  {
   "cell_type": "code",
   "execution_count": 2,
   "id": "a484f992",
   "metadata": {},
   "outputs": [],
   "source": [
    "# Resolution of shepp3d\n",
    "res = 128\n",
    "\n",
    "# Number of entries, recommend using 20% for testing\n",
    "entries = 1250"
   ]
  },
  {
   "cell_type": "code",
   "execution_count": 3,
   "id": "11377e43",
   "metadata": {},
   "outputs": [],
   "source": [
    "# Define function for artificial misalignment\n",
    "def misalign(prj, mis_axis, ang_tilt = False, noise = False, background = False):\n",
    "    num_prj, col, row = prj.shape\n",
    "    dx = mis_axis[:, 0]\n",
    "    dy = mis_axis[:, 1]\n",
    "    prj_tmp = tomopy.shift_images(prj, dx, dy)\n",
    "    \n",
    "    for i in range(num_prj):\n",
    "        d_row, d_col, d_ang = mis_axis[i]\n",
    "        \n",
    "        if ang_tilt == True:\n",
    "            prj_tmp[i, :, :] = rotate(prj[i,:,:], d_ang)\n",
    "        else:\n",
    "            prj_tmp[i, :, :] = prj[i,:,:]\n",
    "        \n",
    "        if noise == True:\n",
    "            prj_tmp[i, :, :] = random_noise(prj_tmp[i, :, :], mode = 'gaussian')\n",
    "            \n",
    "        if background == True:\n",
    "            prj_tmp[i, :, :] = prj_tmp[i, :, :]+np.random.random()/5\n",
    "            prj_tmp[i, :, :] = prj_tmp[i, :, :]/prj_tmp[i, :, :].max()  \n",
    "            \n",
    "    return prj_tmp"
   ]
  },
  {
   "cell_type": "code",
   "execution_count": 4,
   "id": "773415ea",
   "metadata": {},
   "outputs": [],
   "source": [
    "# Creating ground truth tomography\n",
    "tomo = tomopy.shepp3d(res)\n",
    "ang = tomopy.angles(180)\n",
    "proj = tomopy.project(tomo, ang)"
   ]
  },
  {
   "cell_type": "code",
   "execution_count": null,
   "id": "cbd89d33",
   "metadata": {},
   "outputs": [],
   "source": [
    "# Create dataset to store misaligned projections and \n",
    "dataset = np.zeros((entries, 2), dtype = object)\n",
    "\n",
    "for i in range(entries):\n",
    "    # Randomly determined misalignment axis\n",
    "    mis_axis = np.random.normal(0, 1, (200, 3))\n",
    "    mis_axis[:, :1] = mis_axis[:, :1]*4\n",
    "    mis_axis = np.round(mis_axis).astype(int)\n",
    "    mis_axis_in = np.expand_dims(mis_axis, axis = 0)\n",
    "    \n",
    "    proj_mis = misalign(proj.copy(), mis_axis, ang_tilt = True)\n",
    "    proj_mis = np.expand_dims(proj_mis, axis = 0)\n",
    "    proj_mis = np.expand_dims(proj_mis, axis = 0)\n",
    "    \n",
    "    dataset[i, 0] = proj_mis\n",
    "    dataset[i, 1] = np.concatenate((mis_axis_in[:, :180, 0], mis_axis_in[:, :180, 1]), axis = 1)\n",
    "    \n",
    "    np.save('./shepp{}-{}/shepp{}-{}_{}'.format(res, entries, res, entries, i), dataset[i, :])"
   ]
  },
  {
   "cell_type": "code",
   "execution_count": null,
   "id": "49fdc977",
   "metadata": {},
   "outputs": [],
   "source": [
    "# Checking shape of dataset\n",
    "print(dataset.shape)\n",
    "print(dataset[0].shape)\n",
    "print(dataset[0][0].shape)\n",
    "print(dataset[0][1].shape)"
   ]
  },
  {
   "cell_type": "code",
   "execution_count": null,
   "id": "92c25360",
   "metadata": {},
   "outputs": [],
   "source": [
    "test = np.load('./shepp{}-{}/shepp{}-{}_0.npy'.format(res, entries, res, entries), allow_pickle = True)\n",
    "print(test.shape)\n",
    "print(test[0].shape)\n",
    "print(test[1].shape)"
   ]
  },
  {
   "cell_type": "code",
   "execution_count": null,
   "id": "a4975f6d",
   "metadata": {},
   "outputs": [],
   "source": [
    "data = []\n",
    "\n",
    "for i in range(entries):\n",
    "    data.append(np.load('./shepp{}-{}/shepp{}-{}_{}'.format(res, entries, res, entries, i), allow_pickle = True))"
   ]
  },
  {
   "cell_type": "code",
   "execution_count": null,
   "id": "8d50b4ad",
   "metadata": {},
   "outputs": [],
   "source": [
    "# Checking shape of data\n",
    "data = np.asarray(data) \n",
    "print(data.shape)\n",
    "print(data[0].shape)\n",
    "print(data[0][0].shape)\n",
    "print(data[0][1].shape)"
   ]
  }
 ],
 "metadata": {
  "kernelspec": {
   "display_name": "Python 3 (ipykernel)",
   "language": "python",
   "name": "python3"
  },
  "language_info": {
   "codemirror_mode": {
    "name": "ipython",
    "version": 3
   },
   "file_extension": ".py",
   "mimetype": "text/x-python",
   "name": "python",
   "nbconvert_exporter": "python",
   "pygments_lexer": "ipython3",
   "version": "3.11.3"
  }
 },
 "nbformat": 4,
 "nbformat_minor": 5
}
