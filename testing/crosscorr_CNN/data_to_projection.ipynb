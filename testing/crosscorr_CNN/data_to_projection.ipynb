{
 "cells": [
  {
   "cell_type": "markdown",
   "id": "6a509f08",
   "metadata": {},
   "source": [
    "# Converting 3D Data to Projection Data and Cross Correlating\n",
    "\n",
    "In order to test the convolutional neural network with the use of cross correlation the training and testing data will be the projections instead of the stack of projections."
   ]
  },
  {
   "cell_type": "code",
   "execution_count": 1,
   "id": "68be5db9",
   "metadata": {},
   "outputs": [],
   "source": [
    "# Import essential packages\n",
    "import os\n",
    "import math\n",
    "import numpy as np\n",
    "import matplotlib.pyplot as plt\n",
    "import tifffile\n",
    "from tifffile import imsave\n",
    "\n",
    "# Import tomography and imaging packages\n",
    "import tomopy\n",
    "from skimage.transform import rotate, AffineTransform\n",
    "from skimage import transform as tf\n",
    "from scipy.fft import fft2, fftshift\n",
    "from scipy.signal import correlate\n",
    "\n",
    "# Import neural net packages\n",
    "import torch\n",
    "import torch.nn as nn\n",
    "import torch.nn.functional as F\n",
    "import torch.optim as optim\n",
    "import torch.profiler\n",
    "from torch.utils.tensorboard import SummaryWriter\n",
    "from torch.utils.data import DataLoader\n",
    "from torchinfo import summary"
   ]
  },
  {
   "cell_type": "code",
   "execution_count": 2,
   "id": "36a59057",
   "metadata": {},
   "outputs": [
    {
     "name": "stdout",
     "output_type": "stream",
     "text": [
      "Working Environment: pytorch\n",
      "Cuda Version: 11.8\n",
      "Cuda Availability: True\n"
     ]
    }
   ],
   "source": [
    "# Checking to ensure environment and cuda are correct\n",
    "print(\"Working Environment: {}\".format(os.environ['CONDA_DEFAULT_ENV']))\n",
    "os.environ['CUDA_VISIBLE_DEVICES'] = '0'\n",
    "print(\"Cuda Version: {}\".format(torch.version.cuda))\n",
    "print(\"Cuda Availability: {}\".format(torch.cuda.is_available()))"
   ]
  },
  {
   "cell_type": "code",
   "execution_count": 3,
   "id": "dc897d76",
   "metadata": {},
   "outputs": [],
   "source": [
    "# Loading data, 25 entries of 128 resolution shepp3ds\n",
    "res = 128\n",
    "entries = 25\n",
    "data = []\n",
    "\n",
    "for i in range(entries):\n",
    "    data.append(np.load('./shepp{}-{}/shepp{}-{}_{}.npy'.format(res, entries, res, entries, i), \n",
    "                        allow_pickle = True))\n",
    "    \n",
    "data = np.asarray(data)"
   ]
  },
  {
   "cell_type": "code",
   "execution_count": 20,
   "id": "3189ee79",
   "metadata": {},
   "outputs": [],
   "source": [
    "projections = np.zeros((entries * data[0][0][0, 0].shape[0], 2), dtype = object)\n",
    "\n",
    "for i in range (entries):\n",
    "    \n",
    "    for j in range (data[0][0][0, 0].shape[0]):\n",
    "        \n",
    "        projections[i * data[0][0][0, 0].shape[0] + j, 0] = data[i, 0][0, 0, j, :, :]\n",
    "        projections[i * data[0][0][0, 0].shape[0] + j, 1] = np.asarray([data[i, 1][0, 2 * j], \n",
    "                                                                        data[i, 1][0, 2 * j + 1]])"
   ]
  },
  {
   "cell_type": "code",
   "execution_count": 21,
   "id": "7cc8f60f",
   "metadata": {},
   "outputs": [
    {
     "name": "stdout",
     "output_type": "stream",
     "text": [
      "(4500, 2)\n",
      "(128, 184)\n",
      "(2,)\n"
     ]
    }
   ],
   "source": [
    "print(projections.shape)\n",
    "print(projections[0, 0].shape)\n",
    "print(projections[0, 1].shape)"
   ]
  },
  {
   "cell_type": "code",
   "execution_count": 22,
   "id": "3f4f0fff",
   "metadata": {},
   "outputs": [],
   "source": [
    "def to_projections(data, entries):\n",
    "    \n",
    "    projections = np.zeros((entries * data[0][0][0, 0].shape[0], 2), dtype = object)\n",
    "\n",
    "    for i in range (entries):\n",
    "\n",
    "        for j in range (data[0][0][0, 0].shape[0]):\n",
    "\n",
    "            projections[i * data[0][0][0, 0].shape[0] + j, 0] = data[i, 0][0, 0, j, :, :]\n",
    "            projections[i * data[0][0][0, 0].shape[0] + j, 1] = np.asarray([data[i, 1][0, 2 * j], \n",
    "                                                                            data[i, 1][0, 2 * j + 1]])\n",
    "            \n",
    "    return projections"
   ]
  },
  {
   "cell_type": "code",
   "execution_count": 25,
   "id": "09290a64",
   "metadata": {},
   "outputs": [
    {
     "name": "stdout",
     "output_type": "stream",
     "text": [
      "(4500, 2)\n",
      "(128, 184)\n",
      "(2,)\n"
     ]
    }
   ],
   "source": [
    "proj_data = to_projections(data, entries)\n",
    "\n",
    "print(proj_data.shape)\n",
    "print(proj_data[0, 0].shape)\n",
    "print(proj_data[0, 1].shape)"
   ]
  },
  {
   "cell_type": "code",
   "execution_count": 26,
   "id": "471b66f5",
   "metadata": {},
   "outputs": [
    {
     "name": "stdout",
     "output_type": "stream",
     "text": [
      "(25, 2)\n",
      "(180, 128, 184)\n",
      "(1, 360)\n"
     ]
    }
   ],
   "source": [
    "print(data.shape)\n",
    "print(data[0, 0][0, 0].shape)\n",
    "print(data[0, 1].shape)"
   ]
  },
  {
   "cell_type": "markdown",
   "id": "665c53ff",
   "metadata": {},
   "source": [
    "Now that we can see that splitting the data into projections work, now we can perform the operation on cross correlation data to be fed into the neural network."
   ]
  },
  {
   "cell_type": "code",
   "execution_count": 27,
   "id": "037e35fe",
   "metadata": {},
   "outputs": [],
   "source": [
    "def crosscorr_reprojection(data, entries):\n",
    "    \n",
    "    ang = tomopy.angles(data[0][0][0, 0].shape[0])\n",
    "    _rec = 1e-12 * np.ones((data[0][0][0, 0].shape[1], data[0][0][0, 0].shape[2], data[0][0][0, 0].shape[2]))\n",
    "    data_copy = data.copy()\n",
    "    out_data = np.zeros((entries, 2), dtype = object)\n",
    "    \n",
    "    for i in range (entries):\n",
    "    \n",
    "        out_data[i, 0] = np.zeros((1, 1, data[0][0][0, 0].shape[0], data[0][0][0, 0].shape[1] * 2 - 1,\n",
    "                                      data[0][0][0, 0].shape[2] * 2 - 1))\n",
    "        out_data[i, 1] = data_copy[i, 1]\n",
    "        \n",
    "        rec = tomopy.recon(data_copy[i][0][0, 0], ang, center = None, \n",
    "                            algorithm = 'mlem', init_recon = _rec)\n",
    "        reproj = tomopy.project(rec, ang, center = None, pad = False)\n",
    "        \n",
    "        for j in range (data[0][0][0, 0].shape[0]):\n",
    "            \n",
    "            out_data[i, 0][0, 0, j] = correlate(data_copy[i][0][0, 0, j], reproj[j], method = 'fft')\n",
    "        \n",
    "    return out_data"
   ]
  },
  {
   "cell_type": "code",
   "execution_count": 28,
   "id": "b55c1d5c",
   "metadata": {},
   "outputs": [
    {
     "name": "stdout",
     "output_type": "stream",
     "text": [
      "(25, 2)\n",
      "(1, 1, 180, 255, 367)\n",
      "(1, 360)\n"
     ]
    }
   ],
   "source": [
    "crosscorr_reproj = crosscorr_reprojection(data.copy(), entries)\n",
    "\n",
    "print(crosscorr_reproj.shape)\n",
    "print(crosscorr_reproj[0, 0].shape)\n",
    "print(crosscorr_reproj[0, 1].shape)"
   ]
  },
  {
   "cell_type": "code",
   "execution_count": 29,
   "id": "6bad8a91",
   "metadata": {},
   "outputs": [
    {
     "name": "stdout",
     "output_type": "stream",
     "text": [
      "(4500, 2)\n",
      "(255, 367)\n",
      "(2,)\n"
     ]
    }
   ],
   "source": [
    "crosscorr_data = to_projections(crosscorr_reproj, entries)\n",
    "\n",
    "print(crosscorr_data.shape)\n",
    "print(crosscorr_data[0, 0].shape)\n",
    "print(crosscorr_data[0, 1].shape)"
   ]
  },
  {
   "cell_type": "markdown",
   "id": "586e7d4c",
   "metadata": {},
   "source": [
    "As we can see, the data for training and testing the neural network can now be properly set up."
   ]
  }
 ],
 "metadata": {
  "kernelspec": {
   "display_name": "Python 3 (ipykernel)",
   "language": "python",
   "name": "python3"
  },
  "language_info": {
   "codemirror_mode": {
    "name": "ipython",
    "version": 3
   },
   "file_extension": ".py",
   "mimetype": "text/x-python",
   "name": "python",
   "nbconvert_exporter": "python",
   "pygments_lexer": "ipython3",
   "version": "3.11.3"
  }
 },
 "nbformat": 4,
 "nbformat_minor": 5
}
