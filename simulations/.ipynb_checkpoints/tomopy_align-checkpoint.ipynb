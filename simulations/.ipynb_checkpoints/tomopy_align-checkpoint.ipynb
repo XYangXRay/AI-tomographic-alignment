{
 "cells": [
  {
   "cell_type": "code",
   "execution_count": 1,
   "id": "a9b57a8b",
   "metadata": {},
   "outputs": [],
   "source": [
    "import numpy as np\n",
    "import tifffile\n",
    "import tomopy "
   ]
  },
  {
   "cell_type": "code",
   "execution_count": 2,
   "id": "2e60c6a0",
   "metadata": {},
   "outputs": [],
   "source": [
    "prj = tifffile.imread('/data/prj_alignment/simulation/prj_misalign_xz.tiff')"
   ]
  },
  {
   "cell_type": "code",
   "execution_count": 3,
   "id": "406d5026",
   "metadata": {},
   "outputs": [],
   "source": [
    "ang = tomopy.angles(181)"
   ]
  },
  {
   "cell_type": "code",
   "execution_count": null,
   "id": "fe8afdd4",
   "metadata": {},
   "outputs": [
    {
     "name": "stdout",
     "output_type": "stream",
     "text": [
      "iter=0, err=47.629402683636506\n",
      "iter=1, err=8.17801932010435\n"
     ]
    }
   ],
   "source": [
    "prj_align = tomopy.align_joint(prj, ang, iters=10, algorithm='sirt')"
   ]
  },
  {
   "cell_type": "code",
   "execution_count": 9,
   "id": "23ca822b",
   "metadata": {},
   "outputs": [
    {
     "name": "stdout",
     "output_type": "stream",
     "text": [
      "(194, 222, 501)\n"
     ]
    }
   ],
   "source": [
    "print(prj_align[0].shape)"
   ]
  },
  {
   "cell_type": "code",
   "execution_count": 10,
   "id": "2ee93c11",
   "metadata": {},
   "outputs": [],
   "source": [
    "tifffile.imsave('/Users/xiaogangyang/BNL_program/ProjectionAlignment_data/tomopy_align', prj_align[0])"
   ]
  },
  {
   "cell_type": "code",
   "execution_count": 11,
   "id": "4e855a09",
   "metadata": {},
   "outputs": [
    {
     "name": "stdout",
     "output_type": "stream",
     "text": [
      "iter=0, err=0.10000000149011612\n",
      "iter=1, err=0.10000000149011612\n",
      "iter=2, err=0.0\n",
      "iter=3, err=0.0\n",
      "iter=4, err=0.0\n",
      "iter=5, err=0.0\n",
      "iter=6, err=0.0\n",
      "iter=7, err=0.0\n",
      "iter=8, err=0.0\n",
      "iter=9, err=0.0\n"
     ]
    }
   ],
   "source": [
    "prj_seq = tomopy.align_seq(prj, ang, iters=10, algorithm='sirt')"
   ]
  },
  {
   "cell_type": "code",
   "execution_count": 14,
   "id": "8f92d800",
   "metadata": {},
   "outputs": [],
   "source": [
    "rec = tomopy.recon(prj_align[0], ang, algorithm = 'gridrec')\n",
    "tifffile.imsave('/Users/xiaogangyang/BNL_program/ProjectionAlignment_data/recon_tomopy_align', rec)"
   ]
  }
 ],
 "metadata": {
  "kernelspec": {
   "display_name": "Python 3 (ipykernel)",
   "language": "python",
   "name": "python3"
  },
  "language_info": {
   "codemirror_mode": {
    "name": "ipython",
    "version": 3
   },
   "file_extension": ".py",
   "mimetype": "text/x-python",
   "name": "python",
   "nbconvert_exporter": "python",
   "pygments_lexer": "ipython3",
   "version": "3.9.7"
  }
 },
 "nbformat": 4,
 "nbformat_minor": 5
}
