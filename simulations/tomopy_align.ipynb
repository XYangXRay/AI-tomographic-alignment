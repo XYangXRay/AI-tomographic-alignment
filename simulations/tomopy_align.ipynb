{
 "cells": [
  {
   "cell_type": "code",
   "execution_count": 1,
   "id": "a9b57a8b",
   "metadata": {},
   "outputs": [],
   "source": [
    "import numpy as np\n",
    "import tifffile\n",
    "import tomopy "
   ]
  },
  {
   "cell_type": "code",
   "execution_count": 14,
   "id": "2e60c6a0",
   "metadata": {},
   "outputs": [],
   "source": [
    "prj = tifffile.imread('/data/prj_alignment/simulation/prj_misalign_xz_background.tiff')"
   ]
  },
  {
   "cell_type": "code",
   "execution_count": 3,
   "id": "406d5026",
   "metadata": {},
   "outputs": [],
   "source": [
    "ang = tomopy.angles(181)"
   ]
  },
  {
   "cell_type": "code",
   "execution_count": 15,
   "id": "fe8afdd4",
   "metadata": {},
   "outputs": [
    {
     "name": "stdout",
     "output_type": "stream",
     "text": [
      "iter=0, err=42.53128260468993\n",
      "iter=1, err=11.432847414358333\n",
      "iter=2, err=3.5874782229304194\n",
      "iter=3, err=1.5329709716755893\n",
      "iter=4, err=0.9591663046625439\n",
      "iter=5, err=0.7874007874011811\n",
      "iter=6, err=0.6164414002968976\n",
      "iter=7, err=0.5196152422706632\n",
      "iter=8, err=0.37416573867739417\n",
      "iter=9, err=0.37416573867739417\n"
     ]
    }
   ],
   "source": [
    "prj_align = tomopy.align_joint(prj, ang, iters=10, algorithm='sirt')"
   ]
  },
  {
   "cell_type": "code",
   "execution_count": 9,
   "id": "23ca822b",
   "metadata": {},
   "outputs": [
    {
     "name": "stdout",
     "output_type": "stream",
     "text": [
      "(194, 222, 501)\n"
     ]
    }
   ],
   "source": [
    "print(prj_align[0].shape)"
   ]
  },
  {
   "cell_type": "code",
   "execution_count": 16,
   "id": "2ee93c11",
   "metadata": {},
   "outputs": [],
   "source": [
    "tifffile.imsave('/data/prj_alignment/simulation/xz_background_tomopy_align', prj_align[0])"
   ]
  },
  {
   "cell_type": "code",
   "execution_count": 9,
   "id": "4e855a09",
   "metadata": {},
   "outputs": [
    {
     "name": "stdout",
     "output_type": "stream",
     "text": [
      "iter=0, err=47.59296166451506\n",
      "iter=1, err=13.535508856337836\n",
      "iter=2, err=7.57231800705702\n",
      "iter=3, err=5.015974481593782\n",
      "iter=4, err=3.4014702703389896\n",
      "iter=5, err=2.3769728648009427\n",
      "iter=6, err=1.7663521732655694\n",
      "iter=7, err=1.1789826122551597\n",
      "iter=8, err=0.99498743710662\n",
      "iter=9, err=0.754983443527075\n"
     ]
    }
   ],
   "source": [
    "prj_seq = tomopy.align_seq(prj, ang, iters=10, algorithm='sirt')"
   ]
  },
  {
   "cell_type": "code",
   "execution_count": 10,
   "id": "9a161808",
   "metadata": {},
   "outputs": [],
   "source": [
    "tifffile.imsave('/data/prj_alignment/simulation/xza_tomopy_align_seq', prj_seq[0])"
   ]
  },
  {
   "cell_type": "code",
   "execution_count": 14,
   "id": "8f92d800",
   "metadata": {},
   "outputs": [],
   "source": [
    "rec = tomopy.recon(prj_align[0], ang, algorithm = 'gridrec')\n",
    "tifffile.imsave('/Users/xiaogangyang/BNL_program/ProjectionAlignment_data/recon_tomopy_align', rec)"
   ]
  }
 ],
 "metadata": {
  "kernelspec": {
   "display_name": "Python 3 (ipykernel)",
   "language": "python",
   "name": "python3"
  },
  "language_info": {
   "codemirror_mode": {
    "name": "ipython",
    "version": 3
   },
   "file_extension": ".py",
   "mimetype": "text/x-python",
   "name": "python",
   "nbconvert_exporter": "python",
   "pygments_lexer": "ipython3",
   "version": "3.9.7"
  }
 },
 "nbformat": 4,
 "nbformat_minor": 5
}
